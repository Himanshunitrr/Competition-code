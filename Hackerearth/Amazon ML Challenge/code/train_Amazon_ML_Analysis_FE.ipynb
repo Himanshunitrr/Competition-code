{
  "nbformat": 4,
  "nbformat_minor": 0,
  "metadata": {
    "colab": {
      "name": "train_Amazon_ML_Analysis&FE.ipynb",
      "provenance": [],
      "collapsed_sections": []
    },
    "kernelspec": {
      "name": "python3",
      "display_name": "Python 3"
    },
    "language_info": {
      "name": "python"
    }
  },
  "cells": [
    {
      "cell_type": "code",
      "metadata": {
        "colab": {
          "base_uri": "https://localhost:8080/"
        },
        "id": "LP6AxQovkVWJ",
        "outputId": "9c2623ae-d720-4e01-84ee-c3a8da4de4df"
      },
      "source": [
        "#load dataset\n",
        "!unzip \"/content/drive/MyDrive/dataset52a7b21 (1).zip\""
      ],
      "execution_count": 1,
      "outputs": [
        {
          "output_type": "stream",
          "text": [
            "Archive:  /content/drive/MyDrive/dataset52a7b21 (1).zip\n",
            "   creating: dataset/\n",
            "  inflating: dataset/train.csv       \n",
            "  inflating: dataset/sample_submission.csv  \n",
            "  inflating: dataset/test.csv        \n",
            "  inflating: dataset/.~lock.train.csv#  \n"
          ],
          "name": "stdout"
        }
      ]
    },
    {
      "cell_type": "code",
      "metadata": {
        "id": "DdRqZeF3dTx0"
      },
      "source": [
        "#library\n",
        "import pandas as pd\n",
        "import numpy as np\n",
        "import seaborn as sns\n",
        "import matplotlib.pyplot as plt\n",
        "import csv"
      ],
      "execution_count": 3,
      "outputs": []
    },
    {
      "cell_type": "code",
      "metadata": {
        "id": "01o_IZu2dy75"
      },
      "source": [
        "#train data\n",
        "df1=pd.read_csv(\"/content/dataset/train.csv\",escapechar = \"\\\\\",quoting=csv.QUOTE_NONE)"
      ],
      "execution_count": 4,
      "outputs": []
    },
    {
      "cell_type": "code",
      "metadata": {
        "id": "I0NzSmLTd1-p",
        "colab": {
          "base_uri": "https://localhost:8080/",
          "height": 501
        },
        "outputId": "6b3213ab-7dd2-4387-ec9e-ab46c83b3ca4"
      },
      "source": [
        "df1"
      ],
      "execution_count": null,
      "outputs": [
        {
          "output_type": "execute_result",
          "data": {
            "text/html": [
              "<div>\n",
              "<style scoped>\n",
              "    .dataframe tbody tr th:only-of-type {\n",
              "        vertical-align: middle;\n",
              "    }\n",
              "\n",
              "    .dataframe tbody tr th {\n",
              "        vertical-align: top;\n",
              "    }\n",
              "\n",
              "    .dataframe thead th {\n",
              "        text-align: right;\n",
              "    }\n",
              "</style>\n",
              "<table border=\"1\" class=\"dataframe\">\n",
              "  <thead>\n",
              "    <tr style=\"text-align: right;\">\n",
              "      <th></th>\n",
              "      <th>TITLE</th>\n",
              "      <th>DESCRIPTION</th>\n",
              "      <th>BULLET_POINTS</th>\n",
              "      <th>BRAND</th>\n",
              "      <th>BROWSE_NODE_ID</th>\n",
              "    </tr>\n",
              "  </thead>\n",
              "  <tbody>\n",
              "    <tr>\n",
              "      <th>0</th>\n",
              "      <td>Pete The Cat Bedtime Blues Doll, 14.5 Inch</td>\n",
              "      <td>Pete the Cat is the coolest, most popular cat ...</td>\n",
              "      <td>[Pete the Cat Bedtime Blues plush doll,Based o...</td>\n",
              "      <td>MerryMakers</td>\n",
              "      <td>0</td>\n",
              "    </tr>\n",
              "    <tr>\n",
              "      <th>1</th>\n",
              "      <td>The New Yorker NYHM014 Refrigerator Magnet, 2 ...</td>\n",
              "      <td>The New Yorker Handsome Cello Wrapped Hard Mag...</td>\n",
              "      <td>[Cat In A Tea Cup by New Yorker cover artist G...</td>\n",
              "      <td>The New Yorker</td>\n",
              "      <td>1</td>\n",
              "    </tr>\n",
              "    <tr>\n",
              "      <th>2</th>\n",
              "      <td>The Ultimate Self-Sufficiency Handbook: A Comp...</td>\n",
              "      <td>NaN</td>\n",
              "      <td>Skyhorse Publishing</td>\n",
              "      <td>imusti</td>\n",
              "      <td>2</td>\n",
              "    </tr>\n",
              "    <tr>\n",
              "      <th>3</th>\n",
              "      <td>Amway Nutrilite Kids Chewable Iron Tablets (100)</td>\n",
              "      <td>NaN</td>\n",
              "      <td>[Nutrilite Kids,Chewable Iron Tablets,Quantity...</td>\n",
              "      <td>Amway</td>\n",
              "      <td>3</td>\n",
              "    </tr>\n",
              "    <tr>\n",
              "      <th>4</th>\n",
              "      <td>Teacher Planner Company A4 6 Lesson Academic T...</td>\n",
              "      <td>NaN</td>\n",
              "      <td>NaN</td>\n",
              "      <td>NaN</td>\n",
              "      <td>4</td>\n",
              "    </tr>\n",
              "    <tr>\n",
              "      <th>...</th>\n",
              "      <td>...</td>\n",
              "      <td>...</td>\n",
              "      <td>...</td>\n",
              "      <td>...</td>\n",
              "      <td>...</td>\n",
              "    </tr>\n",
              "    <tr>\n",
              "      <th>2903019</th>\n",
              "      <td>Premium Aviator Sunglasses - HD Polarized (Bri...</td>\n",
              "      <td>These premium Aviator Sunglasses with 5 color ...</td>\n",
              "      <td>[Frame size: Lens height - 56mm, Lens width - ...</td>\n",
              "      <td>Generic</td>\n",
              "      <td>1040</td>\n",
              "    </tr>\n",
              "    <tr>\n",
              "      <th>2903020</th>\n",
              "      <td>Social Distance Stickers - Set of 5 Sticker Sl...</td>\n",
              "      <td>set of 5 prints social distancing sticker self...</td>\n",
              "      <td>[covid19 safety sticker - set of 5 to maintain...</td>\n",
              "      <td>Generic</td>\n",
              "      <td>15199</td>\n",
              "    </tr>\n",
              "    <tr>\n",
              "      <th>2903021</th>\n",
              "      <td>Torr-to Face Shield PACK OF 5 with Adjustable ...</td>\n",
              "      <td>* COMPLETE FACE PROTECTION: Torr-to Face Shiel...</td>\n",
              "      <td>[350 MICRONS PACK OF 5 PCS,COMPLETE FACE PROTE...</td>\n",
              "      <td>TORR-TO</td>\n",
              "      <td>1044933</td>\n",
              "    </tr>\n",
              "    <tr>\n",
              "      <th>2903022</th>\n",
              "      <td>Type-C to 3.5 MM for Oppo R17 Pro Type-C to 3....</td>\n",
              "      <td>Still want to use your favorite earphones/head...</td>\n",
              "      <td>[Indian Connectors: Made for Indian sockets, t...</td>\n",
              "      <td>SHOPBELL</td>\n",
              "      <td>14790</td>\n",
              "    </tr>\n",
              "    <tr>\n",
              "      <th>2903023</th>\n",
              "      <td>KNG Orange Polo Tshirt (38)</td>\n",
              "      <td>Performance inspired by comfort. The polo shir...</td>\n",
              "      <td>NaN</td>\n",
              "      <td>KNG</td>\n",
              "      <td>1213</td>\n",
              "    </tr>\n",
              "  </tbody>\n",
              "</table>\n",
              "<p>2903024 rows × 5 columns</p>\n",
              "</div>"
            ],
            "text/plain": [
              "                                                     TITLE  ... BROWSE_NODE_ID\n",
              "0               Pete The Cat Bedtime Blues Doll, 14.5 Inch  ...              0\n",
              "1        The New Yorker NYHM014 Refrigerator Magnet, 2 ...  ...              1\n",
              "2        The Ultimate Self-Sufficiency Handbook: A Comp...  ...              2\n",
              "3         Amway Nutrilite Kids Chewable Iron Tablets (100)  ...              3\n",
              "4        Teacher Planner Company A4 6 Lesson Academic T...  ...              4\n",
              "...                                                    ...  ...            ...\n",
              "2903019  Premium Aviator Sunglasses - HD Polarized (Bri...  ...           1040\n",
              "2903020  Social Distance Stickers - Set of 5 Sticker Sl...  ...          15199\n",
              "2903021  Torr-to Face Shield PACK OF 5 with Adjustable ...  ...        1044933\n",
              "2903022  Type-C to 3.5 MM for Oppo R17 Pro Type-C to 3....  ...          14790\n",
              "2903023                        KNG Orange Polo Tshirt (38)  ...           1213\n",
              "\n",
              "[2903024 rows x 5 columns]"
            ]
          },
          "metadata": {
            "tags": []
          },
          "execution_count": 4
        }
      ]
    },
    {
      "cell_type": "code",
      "metadata": {
        "id": "sclRsilHMpEH",
        "colab": {
          "base_uri": "https://localhost:8080/"
        },
        "outputId": "9e65bfd0-6e28-41a0-ba6c-442998c15519"
      },
      "source": [
        "df1.shape"
      ],
      "execution_count": null,
      "outputs": [
        {
          "output_type": "execute_result",
          "data": {
            "text/plain": [
              "(2903024, 5)"
            ]
          },
          "metadata": {
            "tags": []
          },
          "execution_count": 5
        }
      ]
    },
    {
      "cell_type": "code",
      "metadata": {
        "id": "R5UVHd9ed3Iu",
        "colab": {
          "base_uri": "https://localhost:8080/"
        },
        "outputId": "bda286c2-2cf6-459b-f0ca-0083b749e31b"
      },
      "source": [
        "df1.columns"
      ],
      "execution_count": null,
      "outputs": [
        {
          "output_type": "execute_result",
          "data": {
            "text/plain": [
              "Index(['TITLE', 'DESCRIPTION', 'BULLET_POINTS', 'BRAND', 'BROWSE_NODE_ID'], dtype='object')"
            ]
          },
          "metadata": {
            "tags": []
          },
          "execution_count": 6
        }
      ]
    },
    {
      "cell_type": "code",
      "metadata": {
        "id": "wxZrrqetsWYr",
        "colab": {
          "base_uri": "https://localhost:8080/"
        },
        "outputId": "dc70970b-6940-4621-e9a2-9376118a811c"
      },
      "source": [
        "df1.isnull().sum()"
      ],
      "execution_count": null,
      "outputs": [
        {
          "output_type": "execute_result",
          "data": {
            "text/plain": [
              "TITLE                 71\n",
              "DESCRIPTION       723664\n",
              "BULLET_POINTS     166263\n",
              "BRAND              56737\n",
              "BROWSE_NODE_ID         0\n",
              "dtype: int64"
            ]
          },
          "metadata": {
            "tags": []
          },
          "execution_count": 7
        }
      ]
    },
    {
      "cell_type": "code",
      "metadata": {
        "id": "z5d66BBfsZWT",
        "colab": {
          "base_uri": "https://localhost:8080/"
        },
        "outputId": "50119623-3f94-43eb-90c5-d9d702e5cdd4"
      },
      "source": [
        "len(np.unique(df1[\"BROWSE_NODE_ID\"]))"
      ],
      "execution_count": null,
      "outputs": [
        {
          "output_type": "execute_result",
          "data": {
            "text/plain": [
              "9919"
            ]
          },
          "metadata": {
            "tags": []
          },
          "execution_count": 8
        }
      ]
    },
    {
      "cell_type": "code",
      "metadata": {
        "id": "NJJeN_VNsw33",
        "colab": {
          "base_uri": "https://localhost:8080/"
        },
        "outputId": "07440809-5552-4836-f2dc-59c008fe447d"
      },
      "source": [
        "np.unique(df1[\"BROWSE_NODE_ID\"])"
      ],
      "execution_count": null,
      "outputs": [
        {
          "output_type": "execute_result",
          "data": {
            "text/plain": [
              "array([      0,       1,       2, ..., 2847632, 2860317, 2893574])"
            ]
          },
          "metadata": {
            "tags": []
          },
          "execution_count": 9
        }
      ]
    },
    {
      "cell_type": "code",
      "metadata": {
        "id": "Q6NyyVelOVJp"
      },
      "source": [
        "#classes having only one sample\n",
        "df_1=df1.groupby(\"BROWSE_NODE_ID\").filter(lambda x : len(x)==1)"
      ],
      "execution_count": null,
      "outputs": []
    },
    {
      "cell_type": "code",
      "metadata": {
        "id": "POHuRg47PI8Q",
        "colab": {
          "base_uri": "https://localhost:8080/",
          "height": 551
        },
        "outputId": "2a340bed-de2e-4d9e-d901-5d5448201ad8"
      },
      "source": [
        "df_1"
      ],
      "execution_count": null,
      "outputs": [
        {
          "output_type": "execute_result",
          "data": {
            "text/html": [
              "<div>\n",
              "<style scoped>\n",
              "    .dataframe tbody tr th:only-of-type {\n",
              "        vertical-align: middle;\n",
              "    }\n",
              "\n",
              "    .dataframe tbody tr th {\n",
              "        vertical-align: top;\n",
              "    }\n",
              "\n",
              "    .dataframe thead th {\n",
              "        text-align: right;\n",
              "    }\n",
              "</style>\n",
              "<table border=\"1\" class=\"dataframe\">\n",
              "  <thead>\n",
              "    <tr style=\"text-align: right;\">\n",
              "      <th></th>\n",
              "      <th>TITLE</th>\n",
              "      <th>DESCRIPTION</th>\n",
              "      <th>BULLET_POINTS</th>\n",
              "      <th>BRAND</th>\n",
              "      <th>BROWSE_NODE_ID</th>\n",
              "    </tr>\n",
              "  </thead>\n",
              "  <tbody>\n",
              "    <tr>\n",
              "      <th>5742</th>\n",
              "      <td>Mythrojan Solid Wood Single Sword Stand Mediev...</td>\n",
              "      <td>Long echo the songs of victory around the roun...</td>\n",
              "      <td>[⭐ COMPACT SIZE 13,5” X 5,5” but STABLE ENOUGH...</td>\n",
              "      <td>Mythrojan</td>\n",
              "      <td>5742</td>\n",
              "    </tr>\n",
              "    <tr>\n",
              "      <th>44144</th>\n",
              "      <td>Professional Products 54130 Engine Bolt Kit fo...</td>\n",
              "      <td>These premium stainless Bolt Kits are availabl...</td>\n",
              "      <td>Engine and Accessory Fastener Kit - 12 Point H...</td>\n",
              "      <td>Professional Products</td>\n",
              "      <td>44144</td>\n",
              "    </tr>\n",
              "    <tr>\n",
              "      <th>47928</th>\n",
              "      <td>Glarks 80Pcs 2.54mm Straight Double Row Female...</td>\n",
              "      <td>&lt;b&gt;Glarks high precision double row female pin...</td>\n",
              "      <td>[1. Product Type: High precision double row fe...</td>\n",
              "      <td>Glarks</td>\n",
              "      <td>47928</td>\n",
              "    </tr>\n",
              "    <tr>\n",
              "      <th>58622</th>\n",
              "      <td>TOPS Visitors Register Book, 17 Lines per Page...</td>\n",
              "      <td>Ideal for keeping track of visitors in a perma...</td>\n",
              "      <td>[Black leather-like cover,208 pages per book,1...</td>\n",
              "      <td>TOPS</td>\n",
              "      <td>58622</td>\n",
              "    </tr>\n",
              "    <tr>\n",
              "      <th>61846</th>\n",
              "      <td>Surgical Spirit I.P. 4.5 Litre (DL Reqd)</td>\n",
              "      <td>NaN</td>\n",
              "      <td>[Skin Steriliser,Not to be applied on broken s...</td>\n",
              "      <td>Om shiva pharma industries</td>\n",
              "      <td>61846</td>\n",
              "    </tr>\n",
              "    <tr>\n",
              "      <th>...</th>\n",
              "      <td>...</td>\n",
              "      <td>...</td>\n",
              "      <td>...</td>\n",
              "      <td>...</td>\n",
              "      <td>...</td>\n",
              "    </tr>\n",
              "    <tr>\n",
              "      <th>2801983</th>\n",
              "      <td>Writeyboard 50 Square Feet 1-Part White Dry Er...</td>\n",
              "      <td>Clear Dry Erase Paint. Writing on the walls us...</td>\n",
              "      <td>[Requires Only 1 Coat,Write on In 2 Days,No Mi...</td>\n",
              "      <td>Writey Board</td>\n",
              "      <td>2801983</td>\n",
              "    </tr>\n",
              "    <tr>\n",
              "      <th>2830573</th>\n",
              "      <td>Journal of Inventions, Leonardo Da Vinci</td>\n",
              "      <td>NaN</td>\n",
              "      <td>NaN</td>\n",
              "      <td>NaN</td>\n",
              "      <td>2830573</td>\n",
              "    </tr>\n",
              "    <tr>\n",
              "      <th>2847632</th>\n",
              "      <td>NO FALL Men's Anti-slip Cotton Full Length Soc...</td>\n",
              "      <td>NOFALL to increase comfort and stability. Perf...</td>\n",
              "      <td>[Material: 88% Cotton, 12% Lycra | Type: Full ...</td>\n",
              "      <td>NOFALL</td>\n",
              "      <td>2847632</td>\n",
              "    </tr>\n",
              "    <tr>\n",
              "      <th>2860317</th>\n",
              "      <td>Remco 69625 Stiff Hand Scraper, Injection Mold...</td>\n",
              "      <td>NaN</td>\n",
              "      <td>[This color-coded bench scraper is an excellen...</td>\n",
              "      <td>Remco</td>\n",
              "      <td>2860317</td>\n",
              "    </tr>\n",
              "    <tr>\n",
              "      <th>2893574</th>\n",
              "      <td>Yonex Junior Polo T-Shirt 932-28 (Strong Blue,...</td>\n",
              "      <td>Top players stay relaxed and win points at cri...</td>\n",
              "      <td>[A COOL WAY TO BEAT THE HEAT By using impregna...</td>\n",
              "      <td>YONEX</td>\n",
              "      <td>2893574</td>\n",
              "    </tr>\n",
              "  </tbody>\n",
              "</table>\n",
              "<p>247 rows × 5 columns</p>\n",
              "</div>"
            ],
            "text/plain": [
              "                                                     TITLE  ... BROWSE_NODE_ID\n",
              "5742     Mythrojan Solid Wood Single Sword Stand Mediev...  ...           5742\n",
              "44144    Professional Products 54130 Engine Bolt Kit fo...  ...          44144\n",
              "47928    Glarks 80Pcs 2.54mm Straight Double Row Female...  ...          47928\n",
              "58622    TOPS Visitors Register Book, 17 Lines per Page...  ...          58622\n",
              "61846             Surgical Spirit I.P. 4.5 Litre (DL Reqd)  ...          61846\n",
              "...                                                    ...  ...            ...\n",
              "2801983  Writeyboard 50 Square Feet 1-Part White Dry Er...  ...        2801983\n",
              "2830573           Journal of Inventions, Leonardo Da Vinci  ...        2830573\n",
              "2847632  NO FALL Men's Anti-slip Cotton Full Length Soc...  ...        2847632\n",
              "2860317  Remco 69625 Stiff Hand Scraper, Injection Mold...  ...        2860317\n",
              "2893574  Yonex Junior Polo T-Shirt 932-28 (Strong Blue,...  ...        2893574\n",
              "\n",
              "[247 rows x 5 columns]"
            ]
          },
          "metadata": {
            "tags": []
          },
          "execution_count": 12
        }
      ]
    },
    {
      "cell_type": "code",
      "metadata": {
        "id": "_vndItCyTO-f",
        "colab": {
          "base_uri": "https://localhost:8080/"
        },
        "outputId": "8c552c0a-0009-4b1f-a59e-9305a076fcaf"
      },
      "source": [
        "len(np.unique(df_1[\"BROWSE_NODE_ID\"]))"
      ],
      "execution_count": null,
      "outputs": [
        {
          "output_type": "execute_result",
          "data": {
            "text/plain": [
              "247"
            ]
          },
          "metadata": {
            "tags": []
          },
          "execution_count": 13
        }
      ]
    },
    {
      "cell_type": "code",
      "metadata": {
        "id": "fnmnVEkEPoIW"
      },
      "source": [
        "#targets having exactly 2 samples\n",
        "df_2=df1.groupby(\"BROWSE_NODE_ID\").filter(lambda x : len(x)==2)"
      ],
      "execution_count": null,
      "outputs": []
    },
    {
      "cell_type": "code",
      "metadata": {
        "id": "SPzIJGoUQO5p",
        "colab": {
          "base_uri": "https://localhost:8080/",
          "height": 585
        },
        "outputId": "922419ef-701b-4465-f02c-3760cda00ff9"
      },
      "source": [
        "df_2"
      ],
      "execution_count": null,
      "outputs": [
        {
          "output_type": "execute_result",
          "data": {
            "text/html": [
              "<div>\n",
              "<style scoped>\n",
              "    .dataframe tbody tr th:only-of-type {\n",
              "        vertical-align: middle;\n",
              "    }\n",
              "\n",
              "    .dataframe tbody tr th {\n",
              "        vertical-align: top;\n",
              "    }\n",
              "\n",
              "    .dataframe thead th {\n",
              "        text-align: right;\n",
              "    }\n",
              "</style>\n",
              "<table border=\"1\" class=\"dataframe\">\n",
              "  <thead>\n",
              "    <tr style=\"text-align: right;\">\n",
              "      <th></th>\n",
              "      <th>TITLE</th>\n",
              "      <th>DESCRIPTION</th>\n",
              "      <th>BULLET_POINTS</th>\n",
              "      <th>BRAND</th>\n",
              "      <th>BROWSE_NODE_ID</th>\n",
              "    </tr>\n",
              "  </thead>\n",
              "  <tbody>\n",
              "    <tr>\n",
              "      <th>2</th>\n",
              "      <td>The Ultimate Self-Sufficiency Handbook: A Comp...</td>\n",
              "      <td>NaN</td>\n",
              "      <td>Skyhorse Publishing</td>\n",
              "      <td>imusti</td>\n",
              "      <td>2</td>\n",
              "    </tr>\n",
              "    <tr>\n",
              "      <th>1308</th>\n",
              "      <td>Takabb 5 Piece Takabb Thai Herbal Anti Cough P...</td>\n",
              "      <td>Takabb Throat Relief Anti-cough Herbal Pill Th...</td>\n",
              "      <td>[5 Piece Takabb Thai Herbal Anti - Cough Pill ...</td>\n",
              "      <td>Takabb</td>\n",
              "      <td>1308</td>\n",
              "    </tr>\n",
              "    <tr>\n",
              "      <th>6625</th>\n",
              "      <td>AdraXx CJMCU-100 SCA100T-D02 High-precision du...</td>\n",
              "      <td>AdraXx CJMCU-100 SCA100T-D02 High-precision du...</td>\n",
              "      <td>[Temperature drift: ± 0.008 ° / ° C,Model: CJM...</td>\n",
              "      <td>ADRAxX</td>\n",
              "      <td>6625</td>\n",
              "    </tr>\n",
              "    <tr>\n",
              "      <th>6706</th>\n",
              "      <td>GOLGINO Server Book for Waitress &amp; Waiter 9” x...</td>\n",
              "      <td>&lt;p&gt;&lt;strong&gt;NEW FOR 2019: The &lt;em&gt;Golgino&lt;/em&gt;&amp;...</td>\n",
              "      <td>[CROSS-STITCHED VEGAN LEATHER: Professional de...</td>\n",
              "      <td>Golgino</td>\n",
              "      <td>6706</td>\n",
              "    </tr>\n",
              "    <tr>\n",
              "      <th>8282</th>\n",
              "      <td>FidgetGear 3pcs DIY Silicone Sphere Pendant Mo...</td>\n",
              "      <td>&lt;p&gt;Description:&lt;/p&gt; &lt;p&gt;- Easy to use and clean...</td>\n",
              "      <td>NaN</td>\n",
              "      <td>FidgetGear</td>\n",
              "      <td>8282</td>\n",
              "    </tr>\n",
              "    <tr>\n",
              "      <th>...</th>\n",
              "      <td>...</td>\n",
              "      <td>...</td>\n",
              "      <td>...</td>\n",
              "      <td>...</td>\n",
              "      <td>...</td>\n",
              "    </tr>\n",
              "    <tr>\n",
              "      <th>2887217</th>\n",
              "      <td>Dolphy Toilet Valves Urinal Sensor Flusher for...</td>\n",
              "      <td>【Automatic Flushing】 : Through induction parts...</td>\n",
              "      <td>[【MATERIAL】: Stainless Steel, Brass ,【MOUNT TY...</td>\n",
              "      <td>DOLPHY</td>\n",
              "      <td>1769747</td>\n",
              "    </tr>\n",
              "    <tr>\n",
              "      <th>2893697</th>\n",
              "      <td>Lamex Watch for Men Fully Black</td>\n",
              "      <td>lamex watch for men fully black</td>\n",
              "      <td>[fully black with analog display,Strap Colour ...</td>\n",
              "      <td>SHAHINA WATCH CENTER</td>\n",
              "      <td>2564275</td>\n",
              "    </tr>\n",
              "    <tr>\n",
              "      <th>2896675</th>\n",
              "      <td>Generic FS Racing Wheel Hex Aluminous 12mm 1/1...</td>\n",
              "      <td>Fs racing wheel hex aluminous 12mm 1/10 rc car...</td>\n",
              "      <td>[Toys hobbies and robot,Rc toys &amp; hobbies&gt;rc c...</td>\n",
              "      <td>Generic</td>\n",
              "      <td>1866195</td>\n",
              "    </tr>\n",
              "    <tr>\n",
              "      <th>2898071</th>\n",
              "      <td>Military Ba Men's Paradise UPF 50+ Short Sleev...</td>\n",
              "      <td>&lt;p&gt;&lt;strong&gt;◊ Size:&lt;/strong&gt; Order usual size f...</td>\n",
              "      <td>[&lt;p&gt;&lt;strong&gt;◊ NOTE: &lt;/strong&gt;Please measure yo...</td>\n",
              "      <td>Military Ba</td>\n",
              "      <td>2467618</td>\n",
              "    </tr>\n",
              "    <tr>\n",
              "      <th>2898812</th>\n",
              "      <td>DAMoW7 Dress Womens Material Night Maxi Wester...</td>\n",
              "      <td>&lt;b&gt; description: &lt;/b&gt; ❀ note: our brand name i...</td>\n",
              "      <td>[❀great for soft hand feeling, no damage to yo...</td>\n",
              "      <td>DAMoW7</td>\n",
              "      <td>1664954</td>\n",
              "    </tr>\n",
              "  </tbody>\n",
              "</table>\n",
              "<p>832 rows × 5 columns</p>\n",
              "</div>"
            ],
            "text/plain": [
              "                                                     TITLE  ... BROWSE_NODE_ID\n",
              "2        The Ultimate Self-Sufficiency Handbook: A Comp...  ...              2\n",
              "1308     Takabb 5 Piece Takabb Thai Herbal Anti Cough P...  ...           1308\n",
              "6625     AdraXx CJMCU-100 SCA100T-D02 High-precision du...  ...           6625\n",
              "6706     GOLGINO Server Book for Waitress & Waiter 9” x...  ...           6706\n",
              "8282     FidgetGear 3pcs DIY Silicone Sphere Pendant Mo...  ...           8282\n",
              "...                                                    ...  ...            ...\n",
              "2887217  Dolphy Toilet Valves Urinal Sensor Flusher for...  ...        1769747\n",
              "2893697                    Lamex Watch for Men Fully Black  ...        2564275\n",
              "2896675  Generic FS Racing Wheel Hex Aluminous 12mm 1/1...  ...        1866195\n",
              "2898071  Military Ba Men's Paradise UPF 50+ Short Sleev...  ...        2467618\n",
              "2898812  DAMoW7 Dress Womens Material Night Maxi Wester...  ...        1664954\n",
              "\n",
              "[832 rows x 5 columns]"
            ]
          },
          "metadata": {
            "tags": []
          },
          "execution_count": 15
        }
      ]
    },
    {
      "cell_type": "code",
      "metadata": {
        "id": "AriSacmRTW7H",
        "colab": {
          "base_uri": "https://localhost:8080/"
        },
        "outputId": "7187d7cd-69b3-4290-dd1f-fa86f909e929"
      },
      "source": [
        "len(np.unique(df_2[\"BROWSE_NODE_ID\"]))"
      ],
      "execution_count": null,
      "outputs": [
        {
          "output_type": "execute_result",
          "data": {
            "text/plain": [
              "416"
            ]
          },
          "metadata": {
            "tags": []
          },
          "execution_count": 16
        }
      ]
    },
    {
      "cell_type": "code",
      "metadata": {
        "id": "R82r1fD4QRfq"
      },
      "source": [
        "#targets having exactly 3 samples\n",
        "df_3=df1.groupby(\"BROWSE_NODE_ID\").filter(lambda x : len(x)==3)"
      ],
      "execution_count": null,
      "outputs": []
    },
    {
      "cell_type": "code",
      "metadata": {
        "id": "fcI-ClqTR1WP",
        "colab": {
          "base_uri": "https://localhost:8080/",
          "height": 417
        },
        "outputId": "deba3338-50bb-428b-f454-ae2b26889999"
      },
      "source": [
        "df_3"
      ],
      "execution_count": null,
      "outputs": [
        {
          "output_type": "execute_result",
          "data": {
            "text/html": [
              "<div>\n",
              "<style scoped>\n",
              "    .dataframe tbody tr th:only-of-type {\n",
              "        vertical-align: middle;\n",
              "    }\n",
              "\n",
              "    .dataframe tbody tr th {\n",
              "        vertical-align: top;\n",
              "    }\n",
              "\n",
              "    .dataframe thead th {\n",
              "        text-align: right;\n",
              "    }\n",
              "</style>\n",
              "<table border=\"1\" class=\"dataframe\">\n",
              "  <thead>\n",
              "    <tr style=\"text-align: right;\">\n",
              "      <th></th>\n",
              "      <th>TITLE</th>\n",
              "      <th>DESCRIPTION</th>\n",
              "      <th>BULLET_POINTS</th>\n",
              "      <th>BRAND</th>\n",
              "      <th>BROWSE_NODE_ID</th>\n",
              "    </tr>\n",
              "  </thead>\n",
              "  <tbody>\n",
              "    <tr>\n",
              "      <th>425</th>\n",
              "      <td>SimNet to N2K Micro-C Adapter Female 1M</td>\n",
              "      <td>Micro-C Female to SimNet Cable - 1 Meter</td>\n",
              "      <td>[Best Quality,Branded Original Product]</td>\n",
              "      <td>Simrad</td>\n",
              "      <td>425</td>\n",
              "    </tr>\n",
              "    <tr>\n",
              "      <th>442</th>\n",
              "      <td>SKF FY 40 FM Ball Bearing Flange Unit, 4 Bolts...</td>\n",
              "      <td>NaN</td>\n",
              "      <td>[Cast iron flanged housing for vibration dampi...</td>\n",
              "      <td>SKF</td>\n",
              "      <td>442</td>\n",
              "    </tr>\n",
              "    <tr>\n",
              "      <th>1659</th>\n",
              "      <td>Wonzone Breathable Adjustable Elastic Bandage ...</td>\n",
              "      <td>Feature:&lt;br&gt; 1. The Wonzone elastic wrap is po...</td>\n",
              "      <td>[Material: 55% nylon, 34% rubber, 11% polyeste...</td>\n",
              "      <td>Wonzone-26</td>\n",
              "      <td>1659</td>\n",
              "    </tr>\n",
              "    <tr>\n",
              "      <th>1806</th>\n",
              "      <td>looms &amp; weaves - Natural Vanilla Beans from Ke...</td>\n",
              "      <td>Vanilla is the most expensive spice in the wor...</td>\n",
              "      <td>[gormet grade gourmet vanilla beans,Also avail...</td>\n",
              "      <td>looms &amp; weaves</td>\n",
              "      <td>1806</td>\n",
              "    </tr>\n",
              "    <tr>\n",
              "      <th>3467</th>\n",
              "      <td>Filpro Stainless Steel 316 Miniature Float Swi...</td>\n",
              "      <td>Miniature Float Switch No. of Measurement Poin...</td>\n",
              "      <td>[Material: Stainless Steel 316,Color: Silver a...</td>\n",
              "      <td>FILPRO</td>\n",
              "      <td>3467</td>\n",
              "    </tr>\n",
              "    <tr>\n",
              "      <th>...</th>\n",
              "      <td>...</td>\n",
              "      <td>...</td>\n",
              "      <td>...</td>\n",
              "      <td>...</td>\n",
              "      <td>...</td>\n",
              "    </tr>\n",
              "    <tr>\n",
              "      <th>2877403</th>\n",
              "      <td>Casa Decor Ceramic Decorative Filigree Wall Ho...</td>\n",
              "      <td>NaN</td>\n",
              "      <td>[Filigree artwork: The exclusive artwork of fi...</td>\n",
              "      <td>Casa Decor</td>\n",
              "      <td>139858</td>\n",
              "    </tr>\n",
              "    <tr>\n",
              "      <th>2883065</th>\n",
              "      <td>Oculus Quest 128 GB (Black) 2nd Gen. (2019 Mod...</td>\n",
              "      <td>Oculus Quest 128 GB (Black) 2nd Gen. (2019 Mod...</td>\n",
              "      <td>Oculus Quest 128 GB (Black) 2nd Gen. (2019 Mod...</td>\n",
              "      <td>Oculus</td>\n",
              "      <td>361086</td>\n",
              "    </tr>\n",
              "    <tr>\n",
              "      <th>2890569</th>\n",
              "      <td>Rolling Paper Vyom Classic (Combo Pack with Fi...</td>\n",
              "      <td>Rolling Paper Vyom Classic Combo pack with fil...</td>\n",
              "      <td>[King Size Slim,Natural Arabic Gum,Slow Burnin...</td>\n",
              "      <td>VYOM</td>\n",
              "      <td>453016</td>\n",
              "    </tr>\n",
              "    <tr>\n",
              "      <th>2896053</th>\n",
              "      <td>Sakura Potato Starch, 500g</td>\n",
              "      <td>Potato starch is starch extracted from potatoe...</td>\n",
              "      <td>[Quantity: 500 g,Potato Starch,Size: Small]</td>\n",
              "      <td>Sakura</td>\n",
              "      <td>1200288</td>\n",
              "    </tr>\n",
              "    <tr>\n",
              "      <th>2897804</th>\n",
              "      <td>deli W38562 Start Series 41mm Black Binder Cli...</td>\n",
              "      <td>Binder Clips 41mm. Material: Metal. Clip Size:...</td>\n",
              "      <td>[41mm Wide Binder Clip,Durable Spring Steel Ma...</td>\n",
              "      <td>deli</td>\n",
              "      <td>1116278</td>\n",
              "    </tr>\n",
              "  </tbody>\n",
              "</table>\n",
              "<p>1521 rows × 5 columns</p>\n",
              "</div>"
            ],
            "text/plain": [
              "                                                     TITLE  ... BROWSE_NODE_ID\n",
              "425                SimNet to N2K Micro-C Adapter Female 1M  ...            425\n",
              "442      SKF FY 40 FM Ball Bearing Flange Unit, 4 Bolts...  ...            442\n",
              "1659     Wonzone Breathable Adjustable Elastic Bandage ...  ...           1659\n",
              "1806     looms & weaves - Natural Vanilla Beans from Ke...  ...           1806\n",
              "3467     Filpro Stainless Steel 316 Miniature Float Swi...  ...           3467\n",
              "...                                                    ...  ...            ...\n",
              "2877403  Casa Decor Ceramic Decorative Filigree Wall Ho...  ...         139858\n",
              "2883065  Oculus Quest 128 GB (Black) 2nd Gen. (2019 Mod...  ...         361086\n",
              "2890569  Rolling Paper Vyom Classic (Combo Pack with Fi...  ...         453016\n",
              "2896053                         Sakura Potato Starch, 500g  ...        1200288\n",
              "2897804  deli W38562 Start Series 41mm Black Binder Cli...  ...        1116278\n",
              "\n",
              "[1521 rows x 5 columns]"
            ]
          },
          "metadata": {
            "tags": []
          },
          "execution_count": 18
        }
      ]
    },
    {
      "cell_type": "code",
      "metadata": {
        "id": "x8TJoJ4mSYUq",
        "colab": {
          "base_uri": "https://localhost:8080/"
        },
        "outputId": "35f29124-71eb-46b7-90a9-d9a3c2223a83"
      },
      "source": [
        "len(np.unique(df_3[\"BROWSE_NODE_ID\"]))"
      ],
      "execution_count": null,
      "outputs": [
        {
          "output_type": "execute_result",
          "data": {
            "text/plain": [
              "507"
            ]
          },
          "metadata": {
            "tags": []
          },
          "execution_count": 19
        }
      ]
    },
    {
      "cell_type": "code",
      "metadata": {
        "id": "rCPVYqcjS79e"
      },
      "source": [
        "#targets having <=3 samples\n",
        "df_l3=df1.groupby(\"BROWSE_NODE_ID\").filter(lambda x : len(x)<=3)"
      ],
      "execution_count": null,
      "outputs": []
    },
    {
      "cell_type": "code",
      "metadata": {
        "id": "PmiD1c2dTzfY",
        "colab": {
          "base_uri": "https://localhost:8080/"
        },
        "outputId": "61d562fe-e27d-4fe2-ec0e-fbcc9bcba720"
      },
      "source": [
        "len(np.unique(df_l3[\"BROWSE_NODE_ID\"]))"
      ],
      "execution_count": null,
      "outputs": [
        {
          "output_type": "execute_result",
          "data": {
            "text/plain": [
              "1170"
            ]
          },
          "metadata": {
            "tags": []
          },
          "execution_count": 21
        }
      ]
    },
    {
      "cell_type": "code",
      "metadata": {
        "id": "KLa4XjCVXx4Z"
      },
      "source": [
        "#unique brand values\n",
        "train_brand=((df1[\"BRAND\"]).value_counts()).index"
      ],
      "execution_count": null,
      "outputs": []
    },
    {
      "cell_type": "code",
      "metadata": {
        "id": "phX2_kolvCW7",
        "colab": {
          "base_uri": "https://localhost:8080/"
        },
        "outputId": "a09ba82c-4908-45c6-ae66-203f36542b28"
      },
      "source": [
        "len((df1[\"BRAND\"]).value_counts())"
      ],
      "execution_count": null,
      "outputs": [
        {
          "output_type": "execute_result",
          "data": {
            "text/plain": [
              "258265"
            ]
          },
          "metadata": {
            "tags": []
          },
          "execution_count": 26
        }
      ]
    },
    {
      "cell_type": "code",
      "metadata": {
        "id": "FpMBM_zqavUc",
        "colab": {
          "base_uri": "https://localhost:8080/"
        },
        "outputId": "1743ebdb-444a-4c6f-f16e-be52addc931f"
      },
      "source": [
        "#train set unique brand values\n",
        "train_brand.sort_values()"
      ],
      "execution_count": null,
      "outputs": [
        {
          "output_type": "execute_result",
          "data": {
            "text/plain": [
              "Index(['!RAKRISA', '!iT Collective', '\" Green Leaf \"', '\" Lotus \"',\n",
              "       '\" Mud & More \" with Premier Dead Sea', '\"Ames\"', '\"BestThaiComplex\"',\n",
              "       '\"Encore Electronics, Inc.\"', '\"GR\"-GLORIOSO', '\"Generic\"',\n",
              "       ...\n",
              "       '爱亿乐', '臻三环', '일반', '﻿RAM PRODUCTS', 'ＤＯＳＯＮ', '🌟 Sherostore 🌟',\n",
              "       '🍀GoodLock(TM)_Baby Clothes', '🍀GoodLock(TM)_Women Shoes',\n",
              "       '🍒 Spring Color 🍒', '🍒Cherry Cheers🍒'],\n",
              "      dtype='object', length=258265)"
            ]
          },
          "metadata": {
            "tags": []
          },
          "execution_count": 27
        }
      ]
    },
    {
      "cell_type": "code",
      "metadata": {
        "id": "BvgeHDU4ba-g"
      },
      "source": [
        "#test set\n",
        "test=pd.read_csv(\"/content/dataset/test.csv\",escapechar = \"\\\\\",quoting=csv.QUOTE_NONE)"
      ],
      "execution_count": null,
      "outputs": []
    },
    {
      "cell_type": "code",
      "metadata": {
        "id": "aE8jweR8u8qd",
        "colab": {
          "base_uri": "https://localhost:8080/"
        },
        "outputId": "4864dbc2-6cc7-41ba-e25e-1e4e7632efc7"
      },
      "source": [
        "len((test[\"BRAND\"]).value_counts())"
      ],
      "execution_count": null,
      "outputs": [
        {
          "output_type": "execute_result",
          "data": {
            "text/plain": [
              "20301"
            ]
          },
          "metadata": {
            "tags": []
          },
          "execution_count": 8
        }
      ]
    },
    {
      "cell_type": "code",
      "metadata": {
        "id": "9sCb3_NbpmNM"
      },
      "source": [
        "#test set unique brand values\n",
        "test_brand=((test[\"BRAND\"]).value_counts()).index"
      ],
      "execution_count": null,
      "outputs": []
    },
    {
      "cell_type": "code",
      "metadata": {
        "id": "0khi3zPjpnq4",
        "colab": {
          "base_uri": "https://localhost:8080/"
        },
        "outputId": "a77127fe-30e0-4a46-de07-dec183899c7f"
      },
      "source": [
        "test_brand.sort_values()"
      ],
      "execution_count": null,
      "outputs": [
        {
          "output_type": "execute_result",
          "data": {
            "text/plain": [
              "Index(['\"Happy Selling\"', '#ALPHA', '&Me', ''Aakarshan'',\n",
              "       ', YABON , ULTRA TOUCH', '.', '007 Bond Hut', '03', '0Month+',\n",
              "       '0RIGINAL',\n",
              "       ...\n",
              "       'zikmes', 'ziofy', 'ziplex', 'zivite', 'zoom scientific world', 'zoroz',\n",
              "       'zsales', 'zvr', '❤️Koaha_❤️Education', '❤️Koaha_❤️Men's Watch'],\n",
              "      dtype='object', length=20301)"
            ]
          },
          "metadata": {
            "tags": []
          },
          "execution_count": 31
        }
      ]
    },
    {
      "cell_type": "code",
      "metadata": {
        "id": "kreNGnZzqmb1"
      },
      "source": [
        "ttb=test_brand.to_list()"
      ],
      "execution_count": null,
      "outputs": []
    },
    {
      "cell_type": "code",
      "metadata": {
        "id": "X2dgU119uGKE"
      },
      "source": [
        "ttbr=train_brand.to_list()"
      ],
      "execution_count": null,
      "outputs": []
    },
    {
      "cell_type": "code",
      "metadata": {
        "id": "y7RSD05duRwW"
      },
      "source": [
        "#test train overlap\n",
        "list1_as_set = set(ttbr)\n",
        "intersection = list1_as_set.intersection(ttb)"
      ],
      "execution_count": null,
      "outputs": []
    },
    {
      "cell_type": "code",
      "metadata": {
        "id": "Dp5O-7kqu1AG"
      },
      "source": [
        "len(intersection)"
      ],
      "execution_count": null,
      "outputs": []
    },
    {
      "cell_type": "code",
      "metadata": {
        "id": "HxzwIdZGu2Sh",
        "colab": {
          "base_uri": "https://localhost:8080/"
        },
        "outputId": "ff13b729-8cb6-4bfc-ed69-0e92c650e971"
      },
      "source": [
        "non_com=(set(ttb) ^ set(ttbr))\n",
        "len(non_com)"
      ],
      "execution_count": null,
      "outputs": [
        {
          "output_type": "execute_result",
          "data": {
            "text/plain": [
              "245170"
            ]
          },
          "metadata": {
            "tags": []
          },
          "execution_count": 36
        }
      ]
    },
    {
      "cell_type": "code",
      "metadata": {
        "id": "kcLs9v9bD-qt",
        "colab": {
          "base_uri": "https://localhost:8080/",
          "height": 753
        },
        "outputId": "56cc5468-6e09-4485-d295-f02bb4fb964a"
      },
      "source": [
        "pd.merge(df1, test, how ='inner', on =['TITLE'])"
      ],
      "execution_count": null,
      "outputs": [
        {
          "output_type": "execute_result",
          "data": {
            "text/html": [
              "<div>\n",
              "<style scoped>\n",
              "    .dataframe tbody tr th:only-of-type {\n",
              "        vertical-align: middle;\n",
              "    }\n",
              "\n",
              "    .dataframe tbody tr th {\n",
              "        vertical-align: top;\n",
              "    }\n",
              "\n",
              "    .dataframe thead th {\n",
              "        text-align: right;\n",
              "    }\n",
              "</style>\n",
              "<table border=\"1\" class=\"dataframe\">\n",
              "  <thead>\n",
              "    <tr style=\"text-align: right;\">\n",
              "      <th></th>\n",
              "      <th>TITLE</th>\n",
              "      <th>DESCRIPTION_x</th>\n",
              "      <th>BULLET_POINTS_x</th>\n",
              "      <th>BRAND_x</th>\n",
              "      <th>BROWSE_NODE_ID</th>\n",
              "      <th>PRODUCT_ID</th>\n",
              "      <th>DESCRIPTION_y</th>\n",
              "      <th>BULLET_POINTS_y</th>\n",
              "      <th>BRAND_y</th>\n",
              "    </tr>\n",
              "  </thead>\n",
              "  <tbody>\n",
              "    <tr>\n",
              "      <th>0</th>\n",
              "      <td>Crackndeal Back Cover for Apple Ipod Touch 6th...</td>\n",
              "      <td>NaN</td>\n",
              "      <td>NaN</td>\n",
              "      <td>NaN</td>\n",
              "      <td>1459</td>\n",
              "      <td>53589</td>\n",
              "      <td>Crackndeal presents fashionable stylish &amp; high...</td>\n",
              "      <td>[Perfect Fit, Premium Quality,Long life, super...</td>\n",
              "      <td>Crackndeal</td>\n",
              "    </tr>\n",
              "    <tr>\n",
              "      <th>1</th>\n",
              "      <td>Treesha Shakha Pola,Beauti Sheel Bangle Bengal...</td>\n",
              "      <td>&lt;b&gt;About Product&lt;/b&gt;&lt;br&gt;&lt;br&gt;Shakha are white b...</td>\n",
              "      <td>[Available Size : 2.2, 2.4, 2.6, 2.8, 2.8 Quan...</td>\n",
              "      <td>TREESHA</td>\n",
              "      <td>396</td>\n",
              "      <td>70673</td>\n",
              "      <td>&lt;b&gt;About Product&lt;/b&gt;&lt;br&gt;&lt;br&gt;Shakha are white b...</td>\n",
              "      <td>[Available Size : 2.2, 2.4, 2.6, 2.8, 2.8 Quan...</td>\n",
              "      <td>TREESHA</td>\n",
              "    </tr>\n",
              "    <tr>\n",
              "      <th>2</th>\n",
              "      <td>Treesha Shakha Pola,Beauti Sheel Bangle Bengal...</td>\n",
              "      <td>&lt;b&gt;About Product&lt;/b&gt;&lt;br&gt;&lt;br&gt;Shakha are white b...</td>\n",
              "      <td>[Available Size : 2.2, 2.4, 2.6, 2.8, 2.8 Quan...</td>\n",
              "      <td>TREESHA</td>\n",
              "      <td>396</td>\n",
              "      <td>70673</td>\n",
              "      <td>&lt;b&gt;About Product&lt;/b&gt;&lt;br&gt;&lt;br&gt;Shakha are white b...</td>\n",
              "      <td>[Available Size : 2.2, 2.4, 2.6, 2.8, 2.8 Quan...</td>\n",
              "      <td>TREESHA</td>\n",
              "    </tr>\n",
              "    <tr>\n",
              "      <th>3</th>\n",
              "      <td>Treesha Shakha Pola,Beauti Sheel Bangle Bengal...</td>\n",
              "      <td>Shakha are white bangles of conch-shell and wo...</td>\n",
              "      <td>[Available Size : 2.2, 2.4, 2.6or 2.8, Quantit...</td>\n",
              "      <td>Treesha</td>\n",
              "      <td>396</td>\n",
              "      <td>70673</td>\n",
              "      <td>&lt;b&gt;About Product&lt;/b&gt;&lt;br&gt;&lt;br&gt;Shakha are white b...</td>\n",
              "      <td>[Available Size : 2.2, 2.4, 2.6, 2.8, 2.8 Quan...</td>\n",
              "      <td>TREESHA</td>\n",
              "    </tr>\n",
              "    <tr>\n",
              "      <th>4</th>\n",
              "      <td>Treesha Shakha Pola,Beauti Sheel Bangle Bengal...</td>\n",
              "      <td>&lt;b&gt;About Product&lt;/b&gt;&lt;br&gt;&lt;br&gt;Shakha are white b...</td>\n",
              "      <td>[Available Size : 2.2, 2.4, 2.6, 2.8, 2.8 Quan...</td>\n",
              "      <td>TREESHA</td>\n",
              "      <td>396</td>\n",
              "      <td>70673</td>\n",
              "      <td>&lt;b&gt;About Product&lt;/b&gt;&lt;br&gt;&lt;br&gt;Shakha are white b...</td>\n",
              "      <td>[Available Size : 2.2, 2.4, 2.6, 2.8, 2.8 Quan...</td>\n",
              "      <td>TREESHA</td>\n",
              "    </tr>\n",
              "    <tr>\n",
              "      <th>...</th>\n",
              "      <td>...</td>\n",
              "      <td>...</td>\n",
              "      <td>...</td>\n",
              "      <td>...</td>\n",
              "      <td>...</td>\n",
              "      <td>...</td>\n",
              "      <td>...</td>\n",
              "      <td>...</td>\n",
              "      <td>...</td>\n",
              "    </tr>\n",
              "    <tr>\n",
              "      <th>6498</th>\n",
              "      <td>SYUM Smart Watch A1 Bluetooth Smartwatch Compa...</td>\n",
              "      <td>&lt;b&gt;SYUM Best Smart Watch A1 for Men Women Chil...</td>\n",
              "      <td>[High sensitive capacitive touch screen, perfe...</td>\n",
              "      <td>SYUM</td>\n",
              "      <td>507</td>\n",
              "      <td>56320</td>\n",
              "      <td>&lt;b&gt;SYUM Best Smart Watch A1 for Men Women Chil...</td>\n",
              "      <td>[? High sensitive capacitive touch screen, per...</td>\n",
              "      <td>SYUM</td>\n",
              "    </tr>\n",
              "    <tr>\n",
              "      <th>6499</th>\n",
              "      <td>WC RIGHT Mens Solid Full Sleeve Lycra Hooded T...</td>\n",
              "      <td>WCRIGHT most advanced compression wear technol...</td>\n",
              "      <td>[DRI-FIT,HOODED,SOFT &amp; SMOOTH FABRIC,4 WAY STR...</td>\n",
              "      <td>WC RIGHT</td>\n",
              "      <td>5</td>\n",
              "      <td>28785</td>\n",
              "      <td>WCRIGHT most advanced compression wear technol...</td>\n",
              "      <td>[DRI-FIT,HOODED,SOFT &amp; SMOOTH FABRIC,4 WAY STR...</td>\n",
              "      <td>WC RIGHT</td>\n",
              "    </tr>\n",
              "    <tr>\n",
              "      <th>6500</th>\n",
              "      <td>CLASTIK Cartoon Printed Stainless Steel Sipper...</td>\n",
              "      <td>Clastik introduces Fun Printed stainless steel...</td>\n",
              "      <td>[Double walled stainless steel bottle , DESIGN...</td>\n",
              "      <td>Clastik</td>\n",
              "      <td>204</td>\n",
              "      <td>22977</td>\n",
              "      <td>Clastik introduces Fun Printed stainless steel...</td>\n",
              "      <td>[Double walled stainless steel bottle , DESIGN...</td>\n",
              "      <td>Clastik</td>\n",
              "    </tr>\n",
              "    <tr>\n",
              "      <th>6501</th>\n",
              "      <td>CLASTIK Cartoon Printed Stainless Steel Sipper...</td>\n",
              "      <td>Clastik introduces Fun Printed stainless steel...</td>\n",
              "      <td>[Double walled stainless steel bottle , DESIGN...</td>\n",
              "      <td>Clastik</td>\n",
              "      <td>204</td>\n",
              "      <td>70873</td>\n",
              "      <td>Clastik introduces Fun Printed stainless steel...</td>\n",
              "      <td>[Double walled stainless steel bottle , DESIGN...</td>\n",
              "      <td>Clastik</td>\n",
              "    </tr>\n",
              "    <tr>\n",
              "      <th>6502</th>\n",
              "      <td>CLASTIK Cartoon Printed Stainless Steel Sipper...</td>\n",
              "      <td>Clastik introduces Fun Printed stainless steel...</td>\n",
              "      <td>[Double walled stainless steel bottle , DESIGN...</td>\n",
              "      <td>Clastik</td>\n",
              "      <td>204</td>\n",
              "      <td>94451</td>\n",
              "      <td>Clastik introduces Fun Printed stainless steel...</td>\n",
              "      <td>[Double walled stainless steel bottle , DESIGN...</td>\n",
              "      <td>Clastik</td>\n",
              "    </tr>\n",
              "  </tbody>\n",
              "</table>\n",
              "<p>6503 rows × 9 columns</p>\n",
              "</div>"
            ],
            "text/plain": [
              "                                                  TITLE  ...     BRAND_y\n",
              "0     Crackndeal Back Cover for Apple Ipod Touch 6th...  ...  Crackndeal\n",
              "1     Treesha Shakha Pola,Beauti Sheel Bangle Bengal...  ...     TREESHA\n",
              "2     Treesha Shakha Pola,Beauti Sheel Bangle Bengal...  ...     TREESHA\n",
              "3     Treesha Shakha Pola,Beauti Sheel Bangle Bengal...  ...     TREESHA\n",
              "4     Treesha Shakha Pola,Beauti Sheel Bangle Bengal...  ...     TREESHA\n",
              "...                                                 ...  ...         ...\n",
              "6498  SYUM Smart Watch A1 Bluetooth Smartwatch Compa...  ...        SYUM\n",
              "6499  WC RIGHT Mens Solid Full Sleeve Lycra Hooded T...  ...    WC RIGHT\n",
              "6500  CLASTIK Cartoon Printed Stainless Steel Sipper...  ...     Clastik\n",
              "6501  CLASTIK Cartoon Printed Stainless Steel Sipper...  ...     Clastik\n",
              "6502  CLASTIK Cartoon Printed Stainless Steel Sipper...  ...     Clastik\n",
              "\n",
              "[6503 rows x 9 columns]"
            ]
          },
          "metadata": {
            "tags": []
          },
          "execution_count": 38
        }
      ]
    },
    {
      "cell_type": "code",
      "metadata": {
        "id": "SM_dRnS3EvFa"
      },
      "source": [
        "pd.merge(df1, test, how ='inner', on =['BULLET_POINTS'])"
      ],
      "execution_count": null,
      "outputs": []
    },
    {
      "cell_type": "code",
      "metadata": {
        "id": "SOlDmzy5GkuD"
      },
      "source": [
        "df1.shape"
      ],
      "execution_count": null,
      "outputs": []
    },
    {
      "cell_type": "code",
      "metadata": {
        "id": "F6zkBVVcGnbA"
      },
      "source": [
        "#duplicate values in train\n",
        "df11=df1.drop_duplicates()"
      ],
      "execution_count": null,
      "outputs": []
    },
    {
      "cell_type": "code",
      "metadata": {
        "id": "vvDYRuVkam4E"
      },
      "source": [
        "duplicate =df1[df1.duplicated()]"
      ],
      "execution_count": null,
      "outputs": []
    },
    {
      "cell_type": "code",
      "metadata": {
        "id": "fhVfCWYTIapY"
      },
      "source": [
        "#duplicates value in test\n",
        "test.drop_duplicates()"
      ],
      "execution_count": null,
      "outputs": []
    },
    {
      "cell_type": "code",
      "metadata": {
        "id": "XPSk4u0t3ksm"
      },
      "source": [
        "#FE\n",
        "import re\n",
        "from tqdm import tqdm\n",
        "import math\n",
        "import emoji"
      ],
      "execution_count": null,
      "outputs": []
    },
    {
      "cell_type": "code",
      "metadata": {
        "colab": {
          "base_uri": "https://localhost:8080/"
        },
        "id": "MveJR9rh8SR-",
        "outputId": "f282d98c-6c74-4078-ccef-f18f3db3f4e8"
      },
      "source": [
        "#no. of words\n",
        "title_words=[]\n",
        "des_words=[]\n",
        "bullet_words=[]\n",
        "for i in tqdm(range(len(df1))):\n",
        "\n",
        "  if(df1[\"TITLE\"][i]!=df1[\"TITLE\"][i]):\n",
        "    title_words.append(0)\n",
        "  else:\n",
        "    title_words.append(len(df1[\"TITLE\"][i].split()))\n",
        "\n",
        "  if(df1[\"DESCRIPTION\"][i]!=df1[\"DESCRIPTION\"][i]):\n",
        "   des_words.append(0)\n",
        "  else:\n",
        "   des_words.append(len(df1[\"DESCRIPTION\"][i].split()))\n",
        "\n",
        "  if(df1[\"BULLET_POINTS\"][i]!=df1[\"BULLET_POINTS\"][i]):\n",
        "    bullet_words.append(0)\n",
        "  else:\n",
        "    bullet_words.append(len(df1[\"BULLET_POINTS\"][i].split()))\n",
        "\n"
      ],
      "execution_count": null,
      "outputs": [
        {
          "output_type": "stream",
          "text": [
            "100%|██████████| 2903024/2903024 [03:23<00:00, 14290.21it/s]\n"
          ],
          "name": "stderr"
        }
      ]
    },
    {
      "cell_type": "code",
      "metadata": {
        "id": "a8f1fOn6CzXK"
      },
      "source": [
        "FE_train=pd.DataFrame()"
      ],
      "execution_count": null,
      "outputs": []
    },
    {
      "cell_type": "code",
      "metadata": {
        "id": "gc0Yj4MtEfiK"
      },
      "source": [
        "FE_train[\"title_words\"]=title_words\n",
        "FE_train[\"des_words\"]=des_words\n",
        "FE_train[\"bullet_words\"]=bullet_words"
      ],
      "execution_count": null,
      "outputs": []
    },
    {
      "cell_type": "code",
      "metadata": {
        "colab": {
          "base_uri": "https://localhost:8080/"
        },
        "id": "NDjalATIHqDF",
        "outputId": "62ff4fda-abf1-4112-880d-5e7dbbecc9d0"
      },
      "source": [
        "import nltk\n",
        "from nltk.corpus import stopwords\n",
        "nltk.download('stopwords')\n",
        "from nltk.tokenize import word_tokenize \n",
        "nltk.download('punkt')"
      ],
      "execution_count": null,
      "outputs": [
        {
          "output_type": "stream",
          "text": [
            "[nltk_data] Downloading package stopwords to /root/nltk_data...\n",
            "[nltk_data]   Unzipping corpora/stopwords.zip.\n",
            "[nltk_data] Downloading package punkt to /root/nltk_data...\n",
            "[nltk_data]   Unzipping tokenizers/punkt.zip.\n"
          ],
          "name": "stdout"
        },
        {
          "output_type": "execute_result",
          "data": {
            "text/plain": [
              "True"
            ]
          },
          "metadata": {
            "tags": []
          },
          "execution_count": 9
        }
      ]
    },
    {
      "cell_type": "code",
      "metadata": {
        "colab": {
          "base_uri": "https://localhost:8080/"
        },
        "id": "c0OzFnlnw7vU",
        "outputId": "61a3bf4e-3b60-4a46-d9e2-995d9b563d11"
      },
      "source": [
        "from textblob import TextBlob\n",
        "nltk.download('brown')"
      ],
      "execution_count": null,
      "outputs": [
        {
          "output_type": "stream",
          "text": [
            "[nltk_data] Downloading package brown to /root/nltk_data...\n",
            "[nltk_data]   Unzipping corpora/brown.zip.\n"
          ],
          "name": "stdout"
        },
        {
          "output_type": "execute_result",
          "data": {
            "text/plain": [
              "True"
            ]
          },
          "metadata": {
            "tags": []
          },
          "execution_count": 12
        }
      ]
    },
    {
      "cell_type": "code",
      "metadata": {
        "id": "YII-VqMrI-si"
      },
      "source": [
        "stop_words = set(stopwords.words('english'))"
      ],
      "execution_count": null,
      "outputs": []
    },
    {
      "cell_type": "code",
      "metadata": {
        "colab": {
          "base_uri": "https://localhost:8080/"
        },
        "id": "io7EHCdjH4Cj",
        "outputId": "e2071869-d9d1-467b-efae-b9869a707170"
      },
      "source": [
        "#no. of words without stopwords\n",
        "title_stopwords=[]\n",
        "des_stopwords=[]\n",
        "bullet_stopwords=[]\n",
        "for i in tqdm(range(len(df1))):\n",
        "\n",
        "  if(df1[\"TITLE\"][i]!=df1[\"TITLE\"][i]):\n",
        "    title_stopwords.append(0)\n",
        "  else:\n",
        "    word_tokens = word_tokenize(df1[\"TITLE\"][i])\n",
        "    stopwords_x = [w for w in word_tokens if w.lower() in stop_words]\n",
        "    title_stopwords.append(len(stopwords_x))\n",
        "\n",
        "  if(df1[\"DESCRIPTION\"][i]!=df1[\"DESCRIPTION\"][i]):\n",
        "   des_stopwords.append(0)\n",
        "  else:\n",
        "    word_tokens = word_tokenize(df1[\"DESCRIPTION\"][i])\n",
        "    stopwords_x = [w for w in word_tokens if w.lower() in stop_words]\n",
        "    des_stopwords.append(len(stopwords_x))\n",
        "\n",
        "  if(df1[\"BULLET_POINTS\"][i]!=df1[\"BULLET_POINTS\"][i]):\n",
        "    bullet_stopwords.append(0)\n",
        "  else:\n",
        "    word_tokens = word_tokenize(df1[\"BULLET_POINTS\"][i])\n",
        "    stopwords_x = [w for w in word_tokens if w.lower() in stop_words]\n",
        "    bullet_stopwords.append(len(stopwords_x))"
      ],
      "execution_count": null,
      "outputs": [
        {
          "output_type": "stream",
          "text": [
            "100%|██████████| 2903024/2903024 [1:10:21<00:00, 687.74it/s]\n"
          ],
          "name": "stderr"
        }
      ]
    },
    {
      "cell_type": "code",
      "metadata": {
        "id": "xsCuNj3gLHcE"
      },
      "source": [
        "FE_train[\"title_stopwords\"]=title_stopwords\n",
        "FE_train[\"des_stopwords\"]=des_stopwords\n",
        "FE_train[\"bullet_stopwords\"]=bullet_stopwords"
      ],
      "execution_count": null,
      "outputs": []
    },
    {
      "cell_type": "code",
      "metadata": {
        "id": "R1AaqvsaAtv3"
      },
      "source": [
        "# title_emoji=[]\n",
        "# des_emoji=[]\n",
        "# bullet_emoji=[]\n",
        "# for i in tqdm(range(len(df1))):\n",
        "\n",
        "#   if(df1[\"BULLET_POINTS\"][i]!=df1[\"BULLET_POINTS\"][i]):\n",
        "#     title_emoji.append(0)\n",
        "#   else:\n",
        "#     counter = (df1[\"BULLET_POINTS\"][i]).split()\n",
        "#     text_de= emoji.demojize((' '.join(emoji for emoji in counter)))\n",
        "#     emojis_list_de= re.findall(r'(:[!_\\-\\w]+:)', text_de)\n",
        "#     title_emoji.append(len([emoji.emojize(x) for x in emojis_list_de]))\n",
        "   \n"
      ],
      "execution_count": null,
      "outputs": []
    },
    {
      "cell_type": "code",
      "metadata": {
        "colab": {
          "base_uri": "https://localhost:8080/"
        },
        "id": "Z_5rVqz2vfZP",
        "outputId": "a7535099-04da-4c3a-ba45-fdbaeb0bbb48"
      },
      "source": [
        "#counting nouns\n",
        "title_noun=[]\n",
        "des_noun=[]\n",
        "bullet_noun=[]\n",
        "for i in tqdm(range(len(df1))):\n",
        "  if(df1[\"TITLE\"][i]!=df1[\"TITLE\"][i]):\n",
        "    title_noun.append(0)\n",
        "  else:\n",
        "    blob = TextBlob(df1[\"TITLE\"][i])\n",
        "    title_noun.append(len(blob.noun_phrases))\n",
        "\n",
        "  if(df1[\"DESCRIPTION\"][i]!=df1[\"DESCRIPTION\"][i]):\n",
        "   des_noun.append(0)\n",
        "  else:\n",
        "     blob = TextBlob(df1[\"DESCRIPTION\"][i])\n",
        "     des_noun.append(len(blob.noun_phrases))\n",
        "\n",
        "  if(df1[\"BULLET_POINTS\"][i]!=df1[\"BULLET_POINTS\"][i]):\n",
        "   bullet_noun.append(0)\n",
        "  else:\n",
        "     blob = TextBlob(df1[\"BULLET_POINTS\"][i])\n",
        "     bullet_noun.append(len(blob.noun_phrases))"
      ],
      "execution_count": null,
      "outputs": [
        {
          "output_type": "stream",
          "text": [
            "100%|██████████| 2903024/2903024 [3:36:23<00:00, 223.60it/s]\n"
          ],
          "name": "stderr"
        }
      ]
    },
    {
      "cell_type": "code",
      "metadata": {
        "id": "B1lOTsvPjtv1"
      },
      "source": [
        "FE_train=pd.read_csv(\"/content/FE_train1.csv\")"
      ],
      "execution_count": null,
      "outputs": []
    },
    {
      "cell_type": "code",
      "metadata": {
        "id": "tR5bnfskvfgf"
      },
      "source": [
        "FE_train[\"title_noun\"]=title_noun\n",
        "FE_train[\"des_noun\"]=des_noun\n",
        "FE_train[\"bullet_noun\"]=bullet_noun"
      ],
      "execution_count": null,
      "outputs": []
    },
    {
      "cell_type": "code",
      "metadata": {
        "id": "lWswPoZ-mYQ4"
      },
      "source": [
        "#bullet point sentense length\n",
        "bullet_sentences=[]\n",
        "for i in tqdm(range(len(df1))):\n",
        "\n",
        "  if(df1[\"BULLET_POINTS\"][i]!=df1[\"BULLET_POINTS\"][i]):\n",
        "    bullet_sentences.append(0)\n",
        "  else:\n",
        "    bullet_sentences.append(len(df1[\"BULLET_POINTS\"][i].split(',')))"
      ],
      "execution_count": null,
      "outputs": []
    },
    {
      "cell_type": "code",
      "metadata": {
        "id": "G4oIWMMqmhqi"
      },
      "source": [
        "bullet_avg_length=[]\n",
        "for i in tqdm(range(len(df1))):\n",
        "\n",
        "  if(df1[\"BULLET_POINTS\"][i]!=df1[\"BULLET_POINTS\"][i]):\n",
        "    bullet_avg_length.append(0)\n",
        "  else:\n",
        "    yy=(df1[\"BULLET_POINTS\"][i].split(','))\n",
        "    sum=0\n",
        "    for i in range(len(yy)):\n",
        "      sum+=len(yy[i].split())\n",
        "    bullet_avg_length.append(sum/len(yy))\n"
      ],
      "execution_count": null,
      "outputs": []
    },
    {
      "cell_type": "code",
      "metadata": {
        "id": "b0T-_ayRm5s8"
      },
      "source": [
        "FE_train[\"bullet_sentences\"]=bullet_sentences\n",
        "FE_train[\"bullet_avg_length\"]=bullet_avg_length"
      ],
      "execution_count": null,
      "outputs": []
    },
    {
      "cell_type": "code",
      "metadata": {
        "id": "vNOnVrd8m9_5"
      },
      "source": [
        "#counting capital characters\n",
        "title_capital=[]\n",
        "des_capital=[]\n",
        "bullet_capital=[]\n",
        "for i in tqdm(range(len(df1))):\n",
        "\n",
        "  if(df1[\"BULLET_POINTS\"][i]!=df1[\"BULLET_POINTS\"][i]):\n",
        "    bullet_capital.append(0)\n",
        "  else:\n",
        "    bullet_capital.append(len(re.findall(r'[A-Z]',df1[\"BULLET_POINTS\"][i])))\n",
        "\n",
        "    \n",
        "  if(df1[\"TITLE\"][i]!=df1[\"TITLE\"][i]):\n",
        "    title_capital.append(0)\n",
        "  else:\n",
        "    title_capital.append(len(re.findall(r'[A-Z]',df1[\"TITLE\"][i])))\n",
        "\n",
        "  if(df1[\"DESCRIPTION\"][i]!=df1[\"DESCRIPTION\"][i]):\n",
        "    des_capital.append(0)\n",
        "  else:\n",
        "    des_capital.append(len(re.findall(r'[A-Z]',df1[\"DESCRIPTION\"][i])))\n"
      ],
      "execution_count": null,
      "outputs": []
    },
    {
      "cell_type": "code",
      "metadata": {
        "id": "pPAoLZlwnDs7"
      },
      "source": [
        "FE_train[\"title_capital\"]=title_capital\n",
        "FE_train[\"des_capital\"]=des_capital\n",
        "FE_train[\"bullet_capital\"]=bullet_capital"
      ],
      "execution_count": null,
      "outputs": []
    },
    {
      "cell_type": "code",
      "metadata": {
        "colab": {
          "base_uri": "https://localhost:8080/",
          "height": 437
        },
        "id": "8uNKDJKLvfkX",
        "outputId": "ced66d24-bf7a-42f7-b64e-e4c81a7bde8a"
      },
      "source": [
        "FE_train"
      ],
      "execution_count": null,
      "outputs": [
        {
          "output_type": "execute_result",
          "data": {
            "text/html": [
              "<div>\n",
              "<style scoped>\n",
              "    .dataframe tbody tr th:only-of-type {\n",
              "        vertical-align: middle;\n",
              "    }\n",
              "\n",
              "    .dataframe tbody tr th {\n",
              "        vertical-align: top;\n",
              "    }\n",
              "\n",
              "    .dataframe thead th {\n",
              "        text-align: right;\n",
              "    }\n",
              "</style>\n",
              "<table border=\"1\" class=\"dataframe\">\n",
              "  <thead>\n",
              "    <tr style=\"text-align: right;\">\n",
              "      <th></th>\n",
              "      <th>title_words</th>\n",
              "      <th>des_words</th>\n",
              "      <th>bullet_words</th>\n",
              "      <th>title_stopwords</th>\n",
              "      <th>des_stopwords</th>\n",
              "      <th>bullet_stopwords</th>\n",
              "      <th>bullet_sentences</th>\n",
              "      <th>bullet_avg_length</th>\n",
              "      <th>title_capital</th>\n",
              "      <th>des_capital</th>\n",
              "      <th>bullet_capital</th>\n",
              "      <th>title_noun</th>\n",
              "      <th>des_noun</th>\n",
              "      <th>bullet_noun</th>\n",
              "    </tr>\n",
              "  </thead>\n",
              "  <tbody>\n",
              "    <tr>\n",
              "      <th>0</th>\n",
              "      <td>8</td>\n",
              "      <td>53</td>\n",
              "      <td>36</td>\n",
              "      <td>1</td>\n",
              "      <td>18</td>\n",
              "      <td>13</td>\n",
              "      <td>6</td>\n",
              "      <td>6.666667</td>\n",
              "      <td>7</td>\n",
              "      <td>16</td>\n",
              "      <td>12</td>\n",
              "      <td>3</td>\n",
              "      <td>13</td>\n",
              "      <td>10</td>\n",
              "    </tr>\n",
              "    <tr>\n",
              "      <th>1</th>\n",
              "      <td>9</td>\n",
              "      <td>40</td>\n",
              "      <td>53</td>\n",
              "      <td>1</td>\n",
              "      <td>9</td>\n",
              "      <td>16</td>\n",
              "      <td>6</td>\n",
              "      <td>9.500000</td>\n",
              "      <td>9</td>\n",
              "      <td>22</td>\n",
              "      <td>20</td>\n",
              "      <td>1</td>\n",
              "      <td>10</td>\n",
              "      <td>15</td>\n",
              "    </tr>\n",
              "    <tr>\n",
              "      <th>2</th>\n",
              "      <td>18</td>\n",
              "      <td>0</td>\n",
              "      <td>2</td>\n",
              "      <td>6</td>\n",
              "      <td>0</td>\n",
              "      <td>0</td>\n",
              "      <td>1</td>\n",
              "      <td>2.000000</td>\n",
              "      <td>17</td>\n",
              "      <td>0</td>\n",
              "      <td>2</td>\n",
              "      <td>7</td>\n",
              "      <td>0</td>\n",
              "      <td>1</td>\n",
              "    </tr>\n",
              "    <tr>\n",
              "      <th>3</th>\n",
              "      <td>7</td>\n",
              "      <td>0</td>\n",
              "      <td>6</td>\n",
              "      <td>0</td>\n",
              "      <td>0</td>\n",
              "      <td>0</td>\n",
              "      <td>3</td>\n",
              "      <td>2.666667</td>\n",
              "      <td>6</td>\n",
              "      <td>0</td>\n",
              "      <td>6</td>\n",
              "      <td>2</td>\n",
              "      <td>0</td>\n",
              "      <td>4</td>\n",
              "    </tr>\n",
              "    <tr>\n",
              "      <th>4</th>\n",
              "      <td>12</td>\n",
              "      <td>0</td>\n",
              "      <td>0</td>\n",
              "      <td>0</td>\n",
              "      <td>0</td>\n",
              "      <td>0</td>\n",
              "      <td>0</td>\n",
              "      <td>0.000000</td>\n",
              "      <td>10</td>\n",
              "      <td>0</td>\n",
              "      <td>0</td>\n",
              "      <td>4</td>\n",
              "      <td>0</td>\n",
              "      <td>0</td>\n",
              "    </tr>\n",
              "    <tr>\n",
              "      <th>...</th>\n",
              "      <td>...</td>\n",
              "      <td>...</td>\n",
              "      <td>...</td>\n",
              "      <td>...</td>\n",
              "      <td>...</td>\n",
              "      <td>...</td>\n",
              "      <td>...</td>\n",
              "      <td>...</td>\n",
              "      <td>...</td>\n",
              "      <td>...</td>\n",
              "      <td>...</td>\n",
              "      <td>...</td>\n",
              "      <td>...</td>\n",
              "      <td>...</td>\n",
              "    </tr>\n",
              "    <tr>\n",
              "      <th>2903019</th>\n",
              "      <td>9</td>\n",
              "      <td>134</td>\n",
              "      <td>39</td>\n",
              "      <td>0</td>\n",
              "      <td>57</td>\n",
              "      <td>10</td>\n",
              "      <td>8</td>\n",
              "      <td>5.375000</td>\n",
              "      <td>10</td>\n",
              "      <td>21</td>\n",
              "      <td>11</td>\n",
              "      <td>3</td>\n",
              "      <td>17</td>\n",
              "      <td>11</td>\n",
              "    </tr>\n",
              "    <tr>\n",
              "      <th>2903020</th>\n",
              "      <td>17</td>\n",
              "      <td>57</td>\n",
              "      <td>87</td>\n",
              "      <td>2</td>\n",
              "      <td>18</td>\n",
              "      <td>28</td>\n",
              "      <td>7</td>\n",
              "      <td>12.714286</td>\n",
              "      <td>14</td>\n",
              "      <td>0</td>\n",
              "      <td>0</td>\n",
              "      <td>6</td>\n",
              "      <td>4</td>\n",
              "      <td>9</td>\n",
              "    </tr>\n",
              "    <tr>\n",
              "      <th>2903021</th>\n",
              "      <td>29</td>\n",
              "      <td>135</td>\n",
              "      <td>132</td>\n",
              "      <td>4</td>\n",
              "      <td>44</td>\n",
              "      <td>45</td>\n",
              "      <td>15</td>\n",
              "      <td>9.066667</td>\n",
              "      <td>27</td>\n",
              "      <td>117</td>\n",
              "      <td>133</td>\n",
              "      <td>7</td>\n",
              "      <td>27</td>\n",
              "      <td>30</td>\n",
              "    </tr>\n",
              "    <tr>\n",
              "      <th>2903022</th>\n",
              "      <td>24</td>\n",
              "      <td>76</td>\n",
              "      <td>105</td>\n",
              "      <td>4</td>\n",
              "      <td>20</td>\n",
              "      <td>31</td>\n",
              "      <td>8</td>\n",
              "      <td>13.625000</td>\n",
              "      <td>27</td>\n",
              "      <td>50</td>\n",
              "      <td>43</td>\n",
              "      <td>7</td>\n",
              "      <td>14</td>\n",
              "      <td>23</td>\n",
              "    </tr>\n",
              "    <tr>\n",
              "      <th>2903023</th>\n",
              "      <td>5</td>\n",
              "      <td>24</td>\n",
              "      <td>0</td>\n",
              "      <td>0</td>\n",
              "      <td>7</td>\n",
              "      <td>0</td>\n",
              "      <td>0</td>\n",
              "      <td>0.000000</td>\n",
              "      <td>6</td>\n",
              "      <td>4</td>\n",
              "      <td>0</td>\n",
              "      <td>2</td>\n",
              "      <td>4</td>\n",
              "      <td>0</td>\n",
              "    </tr>\n",
              "  </tbody>\n",
              "</table>\n",
              "<p>2903024 rows × 14 columns</p>\n",
              "</div>"
            ],
            "text/plain": [
              "         title_words  des_words  ...  des_noun  bullet_noun\n",
              "0                  8         53  ...        13           10\n",
              "1                  9         40  ...        10           15\n",
              "2                 18          0  ...         0            1\n",
              "3                  7          0  ...         0            4\n",
              "4                 12          0  ...         0            0\n",
              "...              ...        ...  ...       ...          ...\n",
              "2903019            9        134  ...        17           11\n",
              "2903020           17         57  ...         4            9\n",
              "2903021           29        135  ...        27           30\n",
              "2903022           24         76  ...        14           23\n",
              "2903023            5         24  ...         4            0\n",
              "\n",
              "[2903024 rows x 14 columns]"
            ]
          },
          "metadata": {
            "tags": []
          },
          "execution_count": 26
        }
      ]
    },
    {
      "cell_type": "code",
      "metadata": {
        "id": "F-09VvTBbVk5",
        "colab": {
          "base_uri": "https://localhost:8080/",
          "height": 417
        },
        "outputId": "e813e7c4-9bd7-4f62-fbe5-7df1e86e5f8a"
      },
      "source": [
        "FE_train"
      ],
      "execution_count": null,
      "outputs": [
        {
          "output_type": "execute_result",
          "data": {
            "text/html": [
              "<div>\n",
              "<style scoped>\n",
              "    .dataframe tbody tr th:only-of-type {\n",
              "        vertical-align: middle;\n",
              "    }\n",
              "\n",
              "    .dataframe tbody tr th {\n",
              "        vertical-align: top;\n",
              "    }\n",
              "\n",
              "    .dataframe thead th {\n",
              "        text-align: right;\n",
              "    }\n",
              "</style>\n",
              "<table border=\"1\" class=\"dataframe\">\n",
              "  <thead>\n",
              "    <tr style=\"text-align: right;\">\n",
              "      <th></th>\n",
              "      <th>title_words</th>\n",
              "      <th>des_words</th>\n",
              "      <th>bullet_words</th>\n",
              "      <th>title_stopwords</th>\n",
              "      <th>des_stopwords</th>\n",
              "      <th>bullet_stopwords</th>\n",
              "    </tr>\n",
              "  </thead>\n",
              "  <tbody>\n",
              "    <tr>\n",
              "      <th>0</th>\n",
              "      <td>8</td>\n",
              "      <td>53</td>\n",
              "      <td>36</td>\n",
              "      <td>1</td>\n",
              "      <td>18</td>\n",
              "      <td>13</td>\n",
              "    </tr>\n",
              "    <tr>\n",
              "      <th>1</th>\n",
              "      <td>9</td>\n",
              "      <td>40</td>\n",
              "      <td>53</td>\n",
              "      <td>1</td>\n",
              "      <td>9</td>\n",
              "      <td>16</td>\n",
              "    </tr>\n",
              "    <tr>\n",
              "      <th>2</th>\n",
              "      <td>18</td>\n",
              "      <td>0</td>\n",
              "      <td>2</td>\n",
              "      <td>6</td>\n",
              "      <td>0</td>\n",
              "      <td>0</td>\n",
              "    </tr>\n",
              "    <tr>\n",
              "      <th>3</th>\n",
              "      <td>7</td>\n",
              "      <td>0</td>\n",
              "      <td>6</td>\n",
              "      <td>0</td>\n",
              "      <td>0</td>\n",
              "      <td>0</td>\n",
              "    </tr>\n",
              "    <tr>\n",
              "      <th>4</th>\n",
              "      <td>12</td>\n",
              "      <td>0</td>\n",
              "      <td>0</td>\n",
              "      <td>0</td>\n",
              "      <td>0</td>\n",
              "      <td>0</td>\n",
              "    </tr>\n",
              "    <tr>\n",
              "      <th>...</th>\n",
              "      <td>...</td>\n",
              "      <td>...</td>\n",
              "      <td>...</td>\n",
              "      <td>...</td>\n",
              "      <td>...</td>\n",
              "      <td>...</td>\n",
              "    </tr>\n",
              "    <tr>\n",
              "      <th>2903019</th>\n",
              "      <td>9</td>\n",
              "      <td>134</td>\n",
              "      <td>39</td>\n",
              "      <td>0</td>\n",
              "      <td>57</td>\n",
              "      <td>10</td>\n",
              "    </tr>\n",
              "    <tr>\n",
              "      <th>2903020</th>\n",
              "      <td>17</td>\n",
              "      <td>57</td>\n",
              "      <td>87</td>\n",
              "      <td>2</td>\n",
              "      <td>18</td>\n",
              "      <td>28</td>\n",
              "    </tr>\n",
              "    <tr>\n",
              "      <th>2903021</th>\n",
              "      <td>29</td>\n",
              "      <td>135</td>\n",
              "      <td>132</td>\n",
              "      <td>4</td>\n",
              "      <td>44</td>\n",
              "      <td>45</td>\n",
              "    </tr>\n",
              "    <tr>\n",
              "      <th>2903022</th>\n",
              "      <td>24</td>\n",
              "      <td>76</td>\n",
              "      <td>105</td>\n",
              "      <td>4</td>\n",
              "      <td>20</td>\n",
              "      <td>31</td>\n",
              "    </tr>\n",
              "    <tr>\n",
              "      <th>2903023</th>\n",
              "      <td>5</td>\n",
              "      <td>24</td>\n",
              "      <td>0</td>\n",
              "      <td>0</td>\n",
              "      <td>7</td>\n",
              "      <td>0</td>\n",
              "    </tr>\n",
              "  </tbody>\n",
              "</table>\n",
              "<p>2903024 rows × 6 columns</p>\n",
              "</div>"
            ],
            "text/plain": [
              "         title_words  des_words  ...  des_stopwords  bullet_stopwords\n",
              "0                  8         53  ...             18                13\n",
              "1                  9         40  ...              9                16\n",
              "2                 18          0  ...              0                 0\n",
              "3                  7          0  ...              0                 0\n",
              "4                 12          0  ...              0                 0\n",
              "...              ...        ...  ...            ...               ...\n",
              "2903019            9        134  ...             57                10\n",
              "2903020           17         57  ...             18                28\n",
              "2903021           29        135  ...             44                45\n",
              "2903022           24         76  ...             20                31\n",
              "2903023            5         24  ...              7                 0\n",
              "\n",
              "[2903024 rows x 6 columns]"
            ]
          },
          "metadata": {
            "tags": []
          },
          "execution_count": 92
        }
      ]
    },
    {
      "cell_type": "markdown",
      "metadata": {
        "id": "T7rrK8cjXjxU"
      },
      "source": [
        "### **NEW**\n",
        "#creating a train-test split"
      ]
    },
    {
      "cell_type": "code",
      "metadata": {
        "id": "VL76eC5wbWtv"
      },
      "source": [
        "data=pd.read_csv(\"/content/drive/MyDrive/Copy of cleaned_train_bert.csv\")"
      ],
      "execution_count": null,
      "outputs": []
    },
    {
      "cell_type": "code",
      "metadata": {
        "colab": {
          "base_uri": "https://localhost:8080/",
          "height": 417
        },
        "id": "_rzFgAjXXpm3",
        "outputId": "13eb6533-90dd-49f1-becf-a837ffc493f8"
      },
      "source": [
        "data"
      ],
      "execution_count": null,
      "outputs": [
        {
          "output_type": "execute_result",
          "data": {
            "text/html": [
              "<div>\n",
              "<style scoped>\n",
              "    .dataframe tbody tr th:only-of-type {\n",
              "        vertical-align: middle;\n",
              "    }\n",
              "\n",
              "    .dataframe tbody tr th {\n",
              "        vertical-align: top;\n",
              "    }\n",
              "\n",
              "    .dataframe thead th {\n",
              "        text-align: right;\n",
              "    }\n",
              "</style>\n",
              "<table border=\"1\" class=\"dataframe\">\n",
              "  <thead>\n",
              "    <tr style=\"text-align: right;\">\n",
              "      <th></th>\n",
              "      <th>BROWSE_NODE_ID</th>\n",
              "      <th>cleaned_TITLE</th>\n",
              "      <th>cleaned_DESCRIPTION</th>\n",
              "      <th>cleaned_BULLET_POINTS</th>\n",
              "      <th>cleaned_BRAND</th>\n",
              "    </tr>\n",
              "  </thead>\n",
              "  <tbody>\n",
              "    <tr>\n",
              "      <th>0</th>\n",
              "      <td>0</td>\n",
              "      <td>pete the cat bedtime blues doll inch</td>\n",
              "      <td>pete the cat is the coolest most popular cat i...</td>\n",
              "      <td>pete the cat bedtime blues plush doll based o...</td>\n",
              "      <td>merrymakers</td>\n",
              "    </tr>\n",
              "    <tr>\n",
              "      <th>1</th>\n",
              "      <td>1</td>\n",
              "      <td>the new yorker refrigerator magnet x</td>\n",
              "      <td>the new yorker handsome cello wrapped hard mag...</td>\n",
              "      <td>cat in a tea cup by new yorker cover artist g...</td>\n",
              "      <td>the new yorker</td>\n",
              "    </tr>\n",
              "    <tr>\n",
              "      <th>2</th>\n",
              "      <td>2</td>\n",
              "      <td>the ultimate self sufficiency handbook a compl...</td>\n",
              "      <td>NaN</td>\n",
              "      <td>skyhorse publishing</td>\n",
              "      <td>imusti</td>\n",
              "    </tr>\n",
              "    <tr>\n",
              "      <th>3</th>\n",
              "      <td>3</td>\n",
              "      <td>amway nutrilite kids chewable iron tablets</td>\n",
              "      <td>NaN</td>\n",
              "      <td>nutrilite kids chewable iron tablets quantity...</td>\n",
              "      <td>amway</td>\n",
              "    </tr>\n",
              "    <tr>\n",
              "      <th>4</th>\n",
              "      <td>4</td>\n",
              "      <td>teacher planner company lesson academic teache...</td>\n",
              "      <td>NaN</td>\n",
              "      <td>NaN</td>\n",
              "      <td>NaN</td>\n",
              "    </tr>\n",
              "    <tr>\n",
              "      <th>...</th>\n",
              "      <td>...</td>\n",
              "      <td>...</td>\n",
              "      <td>...</td>\n",
              "      <td>...</td>\n",
              "      <td>...</td>\n",
              "    </tr>\n",
              "    <tr>\n",
              "      <th>2903019</th>\n",
              "      <td>1040</td>\n",
              "      <td>premium aviator sunglasses hd polarized bright...</td>\n",
              "      <td>these premium aviator sunglasses with color op...</td>\n",
              "      <td>frame size lens height lens width mm nose bri...</td>\n",
              "      <td>generic</td>\n",
              "    </tr>\n",
              "    <tr>\n",
              "      <th>2903020</th>\n",
              "      <td>15199</td>\n",
              "      <td>social distance stickers set of sticker slip r...</td>\n",
              "      <td>set of prints social distancing sticker self a...</td>\n",
              "      <td>safety sticker set of to maintain crowd contr...</td>\n",
              "      <td>generic</td>\n",
              "    </tr>\n",
              "    <tr>\n",
              "      <th>2903021</th>\n",
              "      <td>1044933</td>\n",
              "      <td>torr to face shield pack of with adjustable el...</td>\n",
              "      <td>complete face protection torr to face shield ...</td>\n",
              "      <td>microns pack of pcs complete face protection ...</td>\n",
              "      <td>torr to</td>\n",
              "    </tr>\n",
              "    <tr>\n",
              "      <th>2903022</th>\n",
              "      <td>14790</td>\n",
              "      <td>type c to mm for oppo pro type c to mm audio j...</td>\n",
              "      <td>still want to use your favorite earphones head...</td>\n",
              "      <td>indian connectors made for indian sockets the...</td>\n",
              "      <td>shopbell</td>\n",
              "    </tr>\n",
              "    <tr>\n",
              "      <th>2903023</th>\n",
              "      <td>1213</td>\n",
              "      <td>kng orange polo tshirt</td>\n",
              "      <td>performance inspired by comfort the polo shirt...</td>\n",
              "      <td>NaN</td>\n",
              "      <td>kng</td>\n",
              "    </tr>\n",
              "  </tbody>\n",
              "</table>\n",
              "<p>2903024 rows × 5 columns</p>\n",
              "</div>"
            ],
            "text/plain": [
              "         BROWSE_NODE_ID  ...   cleaned_BRAND\n",
              "0                     0  ...     merrymakers\n",
              "1                     1  ...  the new yorker\n",
              "2                     2  ...          imusti\n",
              "3                     3  ...           amway\n",
              "4                     4  ...             NaN\n",
              "...                 ...  ...             ...\n",
              "2903019            1040  ...         generic\n",
              "2903020           15199  ...         generic\n",
              "2903021         1044933  ...         torr to\n",
              "2903022           14790  ...        shopbell\n",
              "2903023            1213  ...             kng\n",
              "\n",
              "[2903024 rows x 5 columns]"
            ]
          },
          "metadata": {
            "tags": []
          },
          "execution_count": 3
        }
      ]
    },
    {
      "cell_type": "code",
      "metadata": {
        "id": "6wbr6qtTXsy0"
      },
      "source": [
        "sampple_1=(data.groupby(\"BROWSE_NODE_ID\").filter(lambda x : len(x)==1))"
      ],
      "execution_count": null,
      "outputs": []
    },
    {
      "cell_type": "code",
      "metadata": {
        "colab": {
          "base_uri": "https://localhost:8080/",
          "height": 585
        },
        "id": "VhUhrPUFYGap",
        "outputId": "8346c7e7-7328-4f83-f399-5b20d6a91552"
      },
      "source": [
        "sampple_1"
      ],
      "execution_count": null,
      "outputs": [
        {
          "output_type": "execute_result",
          "data": {
            "text/html": [
              "<div>\n",
              "<style scoped>\n",
              "    .dataframe tbody tr th:only-of-type {\n",
              "        vertical-align: middle;\n",
              "    }\n",
              "\n",
              "    .dataframe tbody tr th {\n",
              "        vertical-align: top;\n",
              "    }\n",
              "\n",
              "    .dataframe thead th {\n",
              "        text-align: right;\n",
              "    }\n",
              "</style>\n",
              "<table border=\"1\" class=\"dataframe\">\n",
              "  <thead>\n",
              "    <tr style=\"text-align: right;\">\n",
              "      <th></th>\n",
              "      <th>BROWSE_NODE_ID</th>\n",
              "      <th>cleaned_TITLE</th>\n",
              "      <th>cleaned_DESCRIPTION</th>\n",
              "      <th>cleaned_BULLET_POINTS</th>\n",
              "      <th>cleaned_BRAND</th>\n",
              "      <th>split</th>\n",
              "    </tr>\n",
              "  </thead>\n",
              "  <tbody>\n",
              "    <tr>\n",
              "      <th>5742</th>\n",
              "      <td>5742</td>\n",
              "      <td>mythrojan solid wood single sword stand mediev...</td>\n",
              "      <td>long echo the songs of victory around the roun...</td>\n",
              "      <td>compact size x but stable enough to show your...</td>\n",
              "      <td>mythrojan</td>\n",
              "      <td>Train</td>\n",
              "    </tr>\n",
              "    <tr>\n",
              "      <th>44144</th>\n",
              "      <td>44144</td>\n",
              "      <td>professional products engine bolt kit for smal...</td>\n",
              "      <td>these premium stainless bolt kits are availabl...</td>\n",
              "      <td>engine and accessory fastener kit point head s...</td>\n",
              "      <td>professional products</td>\n",
              "      <td>Train</td>\n",
              "    </tr>\n",
              "    <tr>\n",
              "      <th>47928</th>\n",
              "      <td>47928</td>\n",
              "      <td>glarks straight double row female pin header s...</td>\n",
              "      <td>b glarks high precision double row female pin...</td>\n",
              "      <td>product type high precision double row female...</td>\n",
              "      <td>glarks</td>\n",
              "      <td>Train</td>\n",
              "    </tr>\n",
              "    <tr>\n",
              "      <th>58622</th>\n",
              "      <td>58622</td>\n",
              "      <td>tops visitors register book lines per page pag...</td>\n",
              "      <td>ideal for keeping track of visitors in a perma...</td>\n",
              "      <td>black leather like cover pages per book lines...</td>\n",
              "      <td>tops</td>\n",
              "      <td>Train</td>\n",
              "    </tr>\n",
              "    <tr>\n",
              "      <th>61846</th>\n",
              "      <td>61846</td>\n",
              "      <td>surgical spirit i p litre dl reqd</td>\n",
              "      <td>NaN</td>\n",
              "      <td>skin steriliser not to be applied on broken s...</td>\n",
              "      <td>om shiva pharma industries</td>\n",
              "      <td>Train</td>\n",
              "    </tr>\n",
              "    <tr>\n",
              "      <th>...</th>\n",
              "      <td>...</td>\n",
              "      <td>...</td>\n",
              "      <td>...</td>\n",
              "      <td>...</td>\n",
              "      <td>...</td>\n",
              "      <td>...</td>\n",
              "    </tr>\n",
              "    <tr>\n",
              "      <th>2801983</th>\n",
              "      <td>2801983</td>\n",
              "      <td>writeyboard square feet part white dry erase p...</td>\n",
              "      <td>clear dry erase paint writing on the walls use...</td>\n",
              "      <td>requires only coat write on in days no mixing...</td>\n",
              "      <td>writey board</td>\n",
              "      <td>Train</td>\n",
              "    </tr>\n",
              "    <tr>\n",
              "      <th>2830573</th>\n",
              "      <td>2830573</td>\n",
              "      <td>journal of inventions leonardo da vinci</td>\n",
              "      <td>NaN</td>\n",
              "      <td>NaN</td>\n",
              "      <td>NaN</td>\n",
              "      <td>Train</td>\n",
              "    </tr>\n",
              "    <tr>\n",
              "      <th>2847632</th>\n",
              "      <td>2847632</td>\n",
              "      <td>no fall men anti slip cotton full length socks...</td>\n",
              "      <td>nofall to increase comfort and stability perfe...</td>\n",
              "      <td>material cotton lycra type full length color ...</td>\n",
              "      <td>nofall</td>\n",
              "      <td>Train</td>\n",
              "    </tr>\n",
              "    <tr>\n",
              "      <th>2860317</th>\n",
              "      <td>2860317</td>\n",
              "      <td>remco stiff hand scraper injection molded poly...</td>\n",
              "      <td>NaN</td>\n",
              "      <td>this color coded bench scraper is an excellen...</td>\n",
              "      <td>remco</td>\n",
              "      <td>Train</td>\n",
              "    </tr>\n",
              "    <tr>\n",
              "      <th>2893574</th>\n",
              "      <td>2893574</td>\n",
              "      <td>yonex junior polo t shirt strong blue</td>\n",
              "      <td>top players stay relaxed and win points at cri...</td>\n",
              "      <td>a cool way to beat the heat by using impregna...</td>\n",
              "      <td>yonex</td>\n",
              "      <td>Train</td>\n",
              "    </tr>\n",
              "  </tbody>\n",
              "</table>\n",
              "<p>247 rows × 6 columns</p>\n",
              "</div>"
            ],
            "text/plain": [
              "         BROWSE_NODE_ID  ...  split\n",
              "5742               5742  ...  Train\n",
              "44144             44144  ...  Train\n",
              "47928             47928  ...  Train\n",
              "58622             58622  ...  Train\n",
              "61846             61846  ...  Train\n",
              "...                 ...  ...    ...\n",
              "2801983         2801983  ...  Train\n",
              "2830573         2830573  ...  Train\n",
              "2847632         2847632  ...  Train\n",
              "2860317         2860317  ...  Train\n",
              "2893574         2893574  ...  Train\n",
              "\n",
              "[247 rows x 6 columns]"
            ]
          },
          "metadata": {
            "tags": []
          },
          "execution_count": 13
        }
      ]
    },
    {
      "cell_type": "code",
      "metadata": {
        "id": "pC9i3DHtZsmA"
      },
      "source": [
        "data.drop(sampple_1.index, axis=0,inplace=True)"
      ],
      "execution_count": null,
      "outputs": []
    },
    {
      "cell_type": "code",
      "metadata": {
        "colab": {
          "base_uri": "https://localhost:8080/",
          "height": 585
        },
        "id": "nW8phvI8Z9TX",
        "outputId": "ac9a2b33-12d9-4cce-a8cf-104150a6f4fe"
      },
      "source": [
        "data"
      ],
      "execution_count": null,
      "outputs": [
        {
          "output_type": "execute_result",
          "data": {
            "text/html": [
              "<div>\n",
              "<style scoped>\n",
              "    .dataframe tbody tr th:only-of-type {\n",
              "        vertical-align: middle;\n",
              "    }\n",
              "\n",
              "    .dataframe tbody tr th {\n",
              "        vertical-align: top;\n",
              "    }\n",
              "\n",
              "    .dataframe thead th {\n",
              "        text-align: right;\n",
              "    }\n",
              "</style>\n",
              "<table border=\"1\" class=\"dataframe\">\n",
              "  <thead>\n",
              "    <tr style=\"text-align: right;\">\n",
              "      <th></th>\n",
              "      <th>BROWSE_NODE_ID</th>\n",
              "      <th>cleaned_TITLE</th>\n",
              "      <th>cleaned_DESCRIPTION</th>\n",
              "      <th>cleaned_BULLET_POINTS</th>\n",
              "      <th>cleaned_BRAND</th>\n",
              "    </tr>\n",
              "  </thead>\n",
              "  <tbody>\n",
              "    <tr>\n",
              "      <th>0</th>\n",
              "      <td>0</td>\n",
              "      <td>pete the cat bedtime blues doll inch</td>\n",
              "      <td>pete the cat is the coolest most popular cat i...</td>\n",
              "      <td>pete the cat bedtime blues plush doll based o...</td>\n",
              "      <td>merrymakers</td>\n",
              "    </tr>\n",
              "    <tr>\n",
              "      <th>1</th>\n",
              "      <td>1</td>\n",
              "      <td>the new yorker refrigerator magnet x</td>\n",
              "      <td>the new yorker handsome cello wrapped hard mag...</td>\n",
              "      <td>cat in a tea cup by new yorker cover artist g...</td>\n",
              "      <td>the new yorker</td>\n",
              "    </tr>\n",
              "    <tr>\n",
              "      <th>2</th>\n",
              "      <td>2</td>\n",
              "      <td>the ultimate self sufficiency handbook a compl...</td>\n",
              "      <td>NaN</td>\n",
              "      <td>skyhorse publishing</td>\n",
              "      <td>imusti</td>\n",
              "    </tr>\n",
              "    <tr>\n",
              "      <th>3</th>\n",
              "      <td>3</td>\n",
              "      <td>amway nutrilite kids chewable iron tablets</td>\n",
              "      <td>NaN</td>\n",
              "      <td>nutrilite kids chewable iron tablets quantity...</td>\n",
              "      <td>amway</td>\n",
              "    </tr>\n",
              "    <tr>\n",
              "      <th>4</th>\n",
              "      <td>4</td>\n",
              "      <td>teacher planner company lesson academic teache...</td>\n",
              "      <td>NaN</td>\n",
              "      <td>NaN</td>\n",
              "      <td>NaN</td>\n",
              "    </tr>\n",
              "    <tr>\n",
              "      <th>...</th>\n",
              "      <td>...</td>\n",
              "      <td>...</td>\n",
              "      <td>...</td>\n",
              "      <td>...</td>\n",
              "      <td>...</td>\n",
              "    </tr>\n",
              "    <tr>\n",
              "      <th>2903019</th>\n",
              "      <td>1040</td>\n",
              "      <td>premium aviator sunglasses hd polarized bright...</td>\n",
              "      <td>these premium aviator sunglasses with color op...</td>\n",
              "      <td>frame size lens height lens width mm nose bri...</td>\n",
              "      <td>generic</td>\n",
              "    </tr>\n",
              "    <tr>\n",
              "      <th>2903020</th>\n",
              "      <td>15199</td>\n",
              "      <td>social distance stickers set of sticker slip r...</td>\n",
              "      <td>set of prints social distancing sticker self a...</td>\n",
              "      <td>safety sticker set of to maintain crowd contr...</td>\n",
              "      <td>generic</td>\n",
              "    </tr>\n",
              "    <tr>\n",
              "      <th>2903021</th>\n",
              "      <td>1044933</td>\n",
              "      <td>torr to face shield pack of with adjustable el...</td>\n",
              "      <td>complete face protection torr to face shield ...</td>\n",
              "      <td>microns pack of pcs complete face protection ...</td>\n",
              "      <td>torr to</td>\n",
              "    </tr>\n",
              "    <tr>\n",
              "      <th>2903022</th>\n",
              "      <td>14790</td>\n",
              "      <td>type c to mm for oppo pro type c to mm audio j...</td>\n",
              "      <td>still want to use your favorite earphones head...</td>\n",
              "      <td>indian connectors made for indian sockets the...</td>\n",
              "      <td>shopbell</td>\n",
              "    </tr>\n",
              "    <tr>\n",
              "      <th>2903023</th>\n",
              "      <td>1213</td>\n",
              "      <td>kng orange polo tshirt</td>\n",
              "      <td>performance inspired by comfort the polo shirt...</td>\n",
              "      <td>NaN</td>\n",
              "      <td>kng</td>\n",
              "    </tr>\n",
              "  </tbody>\n",
              "</table>\n",
              "<p>2902777 rows × 5 columns</p>\n",
              "</div>"
            ],
            "text/plain": [
              "         BROWSE_NODE_ID  ...   cleaned_BRAND\n",
              "0                     0  ...     merrymakers\n",
              "1                     1  ...  the new yorker\n",
              "2                     2  ...          imusti\n",
              "3                     3  ...           amway\n",
              "4                     4  ...             NaN\n",
              "...                 ...  ...             ...\n",
              "2903019            1040  ...         generic\n",
              "2903020           15199  ...         generic\n",
              "2903021         1044933  ...         torr to\n",
              "2903022           14790  ...        shopbell\n",
              "2903023            1213  ...             kng\n",
              "\n",
              "[2902777 rows x 5 columns]"
            ]
          },
          "metadata": {
            "tags": []
          },
          "execution_count": 11
        }
      ]
    },
    {
      "cell_type": "code",
      "metadata": {
        "id": "s0w53XTKaKGM"
      },
      "source": [
        "sampple_1[\"split\"]=\"Train\""
      ],
      "execution_count": null,
      "outputs": []
    },
    {
      "cell_type": "code",
      "metadata": {
        "id": "tm3EdN_MaXyE"
      },
      "source": [
        "from sklearn.model_selection import train_test_split\n",
        "X_train, X_test = train_test_split(data, test_size=0.2, random_state=101,stratify=data[\"BROWSE_NODE_ID\"])"
      ],
      "execution_count": null,
      "outputs": []
    },
    {
      "cell_type": "code",
      "metadata": {
        "colab": {
          "base_uri": "https://localhost:8080/"
        },
        "id": "-KTS-yv6asgZ",
        "outputId": "f0651254-6552-448a-f4c2-f06ab0e626b1"
      },
      "source": [
        "X_train[\"split\"]=\"Train\""
      ],
      "execution_count": null,
      "outputs": [
        {
          "output_type": "stream",
          "text": [
            "/usr/local/lib/python3.7/dist-packages/ipykernel_launcher.py:1: SettingWithCopyWarning: \n",
            "A value is trying to be set on a copy of a slice from a DataFrame.\n",
            "Try using .loc[row_indexer,col_indexer] = value instead\n",
            "\n",
            "See the caveats in the documentation: https://pandas.pydata.org/pandas-docs/stable/user_guide/indexing.html#returning-a-view-versus-a-copy\n",
            "  \"\"\"Entry point for launching an IPython kernel.\n"
          ],
          "name": "stderr"
        }
      ]
    },
    {
      "cell_type": "code",
      "metadata": {
        "colab": {
          "base_uri": "https://localhost:8080/"
        },
        "id": "TvFLKQ49bsvJ",
        "outputId": "7b269598-9d55-415a-f1c8-764b79224d2b"
      },
      "source": [
        "X_test[\"split\"]=\"valid\""
      ],
      "execution_count": null,
      "outputs": [
        {
          "output_type": "stream",
          "text": [
            "/usr/local/lib/python3.7/dist-packages/ipykernel_launcher.py:1: SettingWithCopyWarning: \n",
            "A value is trying to be set on a copy of a slice from a DataFrame.\n",
            "Try using .loc[row_indexer,col_indexer] = value instead\n",
            "\n",
            "See the caveats in the documentation: https://pandas.pydata.org/pandas-docs/stable/user_guide/indexing.html#returning-a-view-versus-a-copy\n",
            "  \"\"\"Entry point for launching an IPython kernel.\n"
          ],
          "name": "stderr"
        }
      ]
    },
    {
      "cell_type": "code",
      "metadata": {
        "id": "Yv_2scYsbvHb"
      },
      "source": [
        "gg=pd.concat([X_train,sampple_1,X_test],axis=0)"
      ],
      "execution_count": null,
      "outputs": []
    },
    {
      "cell_type": "code",
      "metadata": {
        "colab": {
          "base_uri": "https://localhost:8080/",
          "height": 585
        },
        "id": "scO8gY7bb07x",
        "outputId": "2a0a90a3-3a2a-4f93-b5ad-1185d1106dfc"
      },
      "source": [
        "gg"
      ],
      "execution_count": null,
      "outputs": [
        {
          "output_type": "execute_result",
          "data": {
            "text/html": [
              "<div>\n",
              "<style scoped>\n",
              "    .dataframe tbody tr th:only-of-type {\n",
              "        vertical-align: middle;\n",
              "    }\n",
              "\n",
              "    .dataframe tbody tr th {\n",
              "        vertical-align: top;\n",
              "    }\n",
              "\n",
              "    .dataframe thead th {\n",
              "        text-align: right;\n",
              "    }\n",
              "</style>\n",
              "<table border=\"1\" class=\"dataframe\">\n",
              "  <thead>\n",
              "    <tr style=\"text-align: right;\">\n",
              "      <th></th>\n",
              "      <th>BROWSE_NODE_ID</th>\n",
              "      <th>cleaned_TITLE</th>\n",
              "      <th>cleaned_DESCRIPTION</th>\n",
              "      <th>cleaned_BULLET_POINTS</th>\n",
              "      <th>cleaned_BRAND</th>\n",
              "      <th>split</th>\n",
              "    </tr>\n",
              "  </thead>\n",
              "  <tbody>\n",
              "    <tr>\n",
              "      <th>1770717</th>\n",
              "      <td>1213</td>\n",
              "      <td>neva solid collar half sleeve regular wear pol...</td>\n",
              "      <td>neva designer polo collar t shirt for men made...</td>\n",
              "      <td>neva designer polo collar t shirt for men mad...</td>\n",
              "      <td>neva</td>\n",
              "      <td>Train</td>\n",
              "    </tr>\n",
              "    <tr>\n",
              "      <th>1369558</th>\n",
              "      <td>28156</td>\n",
              "      <td>perfect life ideas pcs plastic stretch clapboa...</td>\n",
              "      <td>fridge partition organizer</td>\n",
              "      <td>partition stand</td>\n",
              "      <td>perfect life ideas</td>\n",
              "      <td>Train</td>\n",
              "    </tr>\n",
              "    <tr>\n",
              "      <th>792816</th>\n",
              "      <td>2029</td>\n",
              "      <td>generic new silicone summer sweet candy jelly ...</td>\n",
              "      <td>item type handbags lining material polyester g...</td>\n",
              "      <td>shoulder bags new silicone su mmer sweet cand...</td>\n",
              "      <td>generic</td>\n",
              "      <td>Train</td>\n",
              "    </tr>\n",
              "    <tr>\n",
              "      <th>143821</th>\n",
              "      <td>3559</td>\n",
              "      <td>donda metal mesh desk organizer pen stand for ...</td>\n",
              "      <td>b brand b donda br b sold by b donda br b pro...</td>\n",
              "      <td>made of black metal mesh helps you to organiz...</td>\n",
              "      <td>donda</td>\n",
              "      <td>Train</td>\n",
              "    </tr>\n",
              "    <tr>\n",
              "      <th>2028953</th>\n",
              "      <td>1045</td>\n",
              "      <td>zapcase apple design soft silicon designer pri...</td>\n",
              "      <td>zapcase slim fit case is designed to provide h...</td>\n",
              "      <td>compatibility designed for xiaomi redmi relia...</td>\n",
              "      <td>zapcase</td>\n",
              "      <td>Train</td>\n",
              "    </tr>\n",
              "    <tr>\n",
              "      <th>...</th>\n",
              "      <td>...</td>\n",
              "      <td>...</td>\n",
              "      <td>...</td>\n",
              "      <td>...</td>\n",
              "      <td>...</td>\n",
              "      <td>...</td>\n",
              "    </tr>\n",
              "    <tr>\n",
              "      <th>688324</th>\n",
              "      <td>4183</td>\n",
              "      <td>nena fashion saree grey free size</td>\n",
              "      <td>spruce up your ethnic collection this season w...</td>\n",
              "      <td>lehengha fabric banglory silk blouse fabric b...</td>\n",
              "      <td>nena fashion</td>\n",
              "      <td>valid</td>\n",
              "    </tr>\n",
              "    <tr>\n",
              "      <th>874526</th>\n",
              "      <td>1045</td>\n",
              "      <td>madanyu iphone plus cover monochrome stripes p...</td>\n",
              "      <td>cases from madanyu are made from polycarbonate...</td>\n",
              "      <td>this iphone plus cover case is thin light dur...</td>\n",
              "      <td>madanyu</td>\n",
              "      <td>valid</td>\n",
              "    </tr>\n",
              "    <tr>\n",
              "      <th>1791565</th>\n",
              "      <td>471</td>\n",
              "      <td>jaquar opal prime brass taps single lever basi...</td>\n",
              "      <td>jaquar opal prime brass tap single lever basin...</td>\n",
              "      <td>anti corrosive easy to clean easy to install ...</td>\n",
              "      <td>jaquar</td>\n",
              "      <td>valid</td>\n",
              "    </tr>\n",
              "    <tr>\n",
              "      <th>1342210</th>\n",
              "      <td>1045</td>\n",
              "      <td>covernew back cover for samsung galaxy sm roya...</td>\n",
              "      <td>check your mobile model before ordering this i...</td>\n",
              "      <td>extremely easy to fit and remove protection a...</td>\n",
              "      <td>covernew</td>\n",
              "      <td>valid</td>\n",
              "    </tr>\n",
              "    <tr>\n",
              "      <th>381739</th>\n",
              "      <td>1186</td>\n",
              "      <td>mochi women gold fashion sandals uk inida eu</td>\n",
              "      <td>NaN</td>\n",
              "      <td>material type synthetic lifestyle ethnic and ...</td>\n",
              "      <td>mochi</td>\n",
              "      <td>valid</td>\n",
              "    </tr>\n",
              "  </tbody>\n",
              "</table>\n",
              "<p>2903024 rows × 6 columns</p>\n",
              "</div>"
            ],
            "text/plain": [
              "         BROWSE_NODE_ID  ...  split\n",
              "1770717            1213  ...  Train\n",
              "1369558           28156  ...  Train\n",
              "792816             2029  ...  Train\n",
              "143821             3559  ...  Train\n",
              "2028953            1045  ...  Train\n",
              "...                 ...  ...    ...\n",
              "688324             4183  ...  valid\n",
              "874526             1045  ...  valid\n",
              "1791565             471  ...  valid\n",
              "1342210            1045  ...  valid\n",
              "381739             1186  ...  valid\n",
              "\n",
              "[2903024 rows x 6 columns]"
            ]
          },
          "metadata": {
            "tags": []
          },
          "execution_count": 21
        }
      ]
    },
    {
      "cell_type": "code",
      "metadata": {
        "colab": {
          "base_uri": "https://localhost:8080/",
          "height": 417
        },
        "id": "DKOp6jGCRPw5",
        "outputId": "ae9e72f4-9afe-4cdb-e7f9-cd42f754ffa2"
      },
      "source": [
        "pd.read_csv(\"/content/drive/MyDrive/input/cleaned_train.csv\")"
      ],
      "execution_count": 62,
      "outputs": [
        {
          "output_type": "execute_result",
          "data": {
            "text/html": [
              "<div>\n",
              "<style scoped>\n",
              "    .dataframe tbody tr th:only-of-type {\n",
              "        vertical-align: middle;\n",
              "    }\n",
              "\n",
              "    .dataframe tbody tr th {\n",
              "        vertical-align: top;\n",
              "    }\n",
              "\n",
              "    .dataframe thead th {\n",
              "        text-align: right;\n",
              "    }\n",
              "</style>\n",
              "<table border=\"1\" class=\"dataframe\">\n",
              "  <thead>\n",
              "    <tr style=\"text-align: right;\">\n",
              "      <th></th>\n",
              "      <th>BROWSE_NODE_ID</th>\n",
              "      <th>cleaned_TITLE</th>\n",
              "      <th>cleaned_DESCRIPTION</th>\n",
              "      <th>cleaned_BULLET_POINTS</th>\n",
              "      <th>cleaned_BRAND</th>\n",
              "    </tr>\n",
              "  </thead>\n",
              "  <tbody>\n",
              "    <tr>\n",
              "      <th>0</th>\n",
              "      <td>0</td>\n",
              "      <td>pete cat bedtime blues doll inch</td>\n",
              "      <td>pete cat coolest popular cat town new pete cat...</td>\n",
              "      <td>pete cat bedtime blues plush doll based popul...</td>\n",
              "      <td>merrymakers</td>\n",
              "    </tr>\n",
              "    <tr>\n",
              "      <th>1</th>\n",
              "      <td>1</td>\n",
              "      <td>new yorker refrigerator magnet x</td>\n",
              "      <td>new yorker handsome cello wrapped hard magnet ...</td>\n",
              "      <td>cat tea cup new yorker cover artist gurbuz do...</td>\n",
              "      <td>new yorker</td>\n",
              "    </tr>\n",
              "    <tr>\n",
              "      <th>2</th>\n",
              "      <td>2</td>\n",
              "      <td>ultimate self sufficiency handbook complete gu...</td>\n",
              "      <td>NaN</td>\n",
              "      <td>skyhorse publishing</td>\n",
              "      <td>imusti</td>\n",
              "    </tr>\n",
              "    <tr>\n",
              "      <th>3</th>\n",
              "      <td>3</td>\n",
              "      <td>amway nutrilite kids chewable iron tablets</td>\n",
              "      <td>NaN</td>\n",
              "      <td>nutrilite kids chewable iron tablets quantity...</td>\n",
              "      <td>amway</td>\n",
              "    </tr>\n",
              "    <tr>\n",
              "      <th>4</th>\n",
              "      <td>4</td>\n",
              "      <td>teacher planner company lesson academic teache...</td>\n",
              "      <td>NaN</td>\n",
              "      <td>NaN</td>\n",
              "      <td>NaN</td>\n",
              "    </tr>\n",
              "    <tr>\n",
              "      <th>...</th>\n",
              "      <td>...</td>\n",
              "      <td>...</td>\n",
              "      <td>...</td>\n",
              "      <td>...</td>\n",
              "      <td>...</td>\n",
              "    </tr>\n",
              "    <tr>\n",
              "      <th>2903019</th>\n",
              "      <td>1040</td>\n",
              "      <td>premium aviator sunglasses hd polarized bright...</td>\n",
              "      <td>premium aviator sunglasses color options craft...</td>\n",
              "      <td>frame size lens height lens width mm nose bri...</td>\n",
              "      <td>generic</td>\n",
              "    </tr>\n",
              "    <tr>\n",
              "      <th>2903020</th>\n",
              "      <td>15199</td>\n",
              "      <td>social distance stickers set sticker slip resi...</td>\n",
              "      <td>set prints social distancing sticker self adhe...</td>\n",
              "      <td>safety sticker set maintain crowd control glo...</td>\n",
              "      <td>generic</td>\n",
              "    </tr>\n",
              "    <tr>\n",
              "      <th>2903021</th>\n",
              "      <td>1044933</td>\n",
              "      <td>torr to face shield pack adjustable elastic st...</td>\n",
              "      <td>complete face protection torr to face shield ...</td>\n",
              "      <td>microns pack pcs complete face protection tor...</td>\n",
              "      <td>torr to</td>\n",
              "    </tr>\n",
              "    <tr>\n",
              "      <th>2903022</th>\n",
              "      <td>14790</td>\n",
              "      <td>type c mm oppo pro type c mm audio jack adapte...</td>\n",
              "      <td>still want use favorite earphones headphones l...</td>\n",
              "      <td>indian connectors made indian sockets wall ch...</td>\n",
              "      <td>shopbell</td>\n",
              "    </tr>\n",
              "    <tr>\n",
              "      <th>2903023</th>\n",
              "      <td>1213</td>\n",
              "      <td>kng orange polo tshirt</td>\n",
              "      <td>performance inspired comfort polo shirt mixes ...</td>\n",
              "      <td>NaN</td>\n",
              "      <td>kng</td>\n",
              "    </tr>\n",
              "  </tbody>\n",
              "</table>\n",
              "<p>2903024 rows × 5 columns</p>\n",
              "</div>"
            ],
            "text/plain": [
              "         BROWSE_NODE_ID  ... cleaned_BRAND\n",
              "0                     0  ...   merrymakers\n",
              "1                     1  ...    new yorker\n",
              "2                     2  ...        imusti\n",
              "3                     3  ...         amway\n",
              "4                     4  ...           NaN\n",
              "...                 ...  ...           ...\n",
              "2903019            1040  ...       generic\n",
              "2903020           15199  ...       generic\n",
              "2903021         1044933  ...       torr to\n",
              "2903022           14790  ...      shopbell\n",
              "2903023            1213  ...           kng\n",
              "\n",
              "[2903024 rows x 5 columns]"
            ]
          },
          "metadata": {
            "tags": []
          },
          "execution_count": 62
        }
      ]
    },
    {
      "cell_type": "code",
      "metadata": {
        "id": "fUkl3Vm5RTjI"
      },
      "source": [
        ""
      ],
      "execution_count": null,
      "outputs": []
    }
  ]
}