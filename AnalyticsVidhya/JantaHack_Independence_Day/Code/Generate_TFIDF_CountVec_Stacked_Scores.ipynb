{
  "nbformat": 4,
  "nbformat_minor": 0,
  "metadata": {
    "kernelspec": {
      "display_name": "Python 3",
      "language": "python",
      "name": "python3"
    },
    "language_info": {
      "codemirror_mode": {
        "name": "ipython",
        "version": 3
      },
      "file_extension": ".py",
      "mimetype": "text/x-python",
      "name": "python",
      "nbconvert_exporter": "python",
      "pygments_lexer": "ipython3",
      "version": "3.7.6"
    },
    "toc": {
      "base_numbering": 1,
      "nav_menu": {},
      "number_sections": true,
      "sideBar": true,
      "skip_h1_title": false,
      "title_cell": "Table of Contents",
      "title_sidebar": "Contents",
      "toc_cell": false,
      "toc_position": {},
      "toc_section_display": true,
      "toc_window_display": false
    },
    "colab": {
      "name": "Generate_TFIDF_CountVec_Stacked_Scores.ipynb",
      "provenance": [],
      "collapsed_sections": []
    },
    "widgets": {
      "application/vnd.jupyter.widget-state+json": {
        "b9569b7ad55a46eea0a41efe1d99a807": {
          "model_module": "@jupyter-widgets/controls",
          "model_name": "HBoxModel",
          "state": {
            "_view_name": "HBoxView",
            "_dom_classes": [],
            "_model_name": "HBoxModel",
            "_view_module": "@jupyter-widgets/controls",
            "_model_module_version": "1.5.0",
            "_view_count": null,
            "_view_module_version": "1.5.0",
            "box_style": "",
            "layout": "IPY_MODEL_be2c38d329574b3390f3bcd97c844b07",
            "_model_module": "@jupyter-widgets/controls",
            "children": [
              "IPY_MODEL_68e55040de564215b91381a1c0921e7f",
              "IPY_MODEL_5f5e033583c14e3493cd09cc15cf81e2"
            ]
          }
        },
        "be2c38d329574b3390f3bcd97c844b07": {
          "model_module": "@jupyter-widgets/base",
          "model_name": "LayoutModel",
          "state": {
            "_view_name": "LayoutView",
            "grid_template_rows": null,
            "right": null,
            "justify_content": null,
            "_view_module": "@jupyter-widgets/base",
            "overflow": null,
            "_model_module_version": "1.2.0",
            "_view_count": null,
            "flex_flow": null,
            "width": null,
            "min_width": null,
            "border": null,
            "align_items": null,
            "bottom": null,
            "_model_module": "@jupyter-widgets/base",
            "top": null,
            "grid_column": null,
            "overflow_y": null,
            "overflow_x": null,
            "grid_auto_flow": null,
            "grid_area": null,
            "grid_template_columns": null,
            "flex": null,
            "_model_name": "LayoutModel",
            "justify_items": null,
            "grid_row": null,
            "max_height": null,
            "align_content": null,
            "visibility": null,
            "align_self": null,
            "height": null,
            "min_height": null,
            "padding": null,
            "grid_auto_rows": null,
            "grid_gap": null,
            "max_width": null,
            "order": null,
            "_view_module_version": "1.2.0",
            "grid_template_areas": null,
            "object_position": null,
            "object_fit": null,
            "grid_auto_columns": null,
            "margin": null,
            "display": null,
            "left": null
          }
        },
        "68e55040de564215b91381a1c0921e7f": {
          "model_module": "@jupyter-widgets/controls",
          "model_name": "FloatProgressModel",
          "state": {
            "_view_name": "ProgressView",
            "style": "IPY_MODEL_75c2ea5e277d470fa94a7d1f1267b275",
            "_dom_classes": [],
            "description": "100%",
            "_model_name": "FloatProgressModel",
            "bar_style": "success",
            "max": 20972,
            "_view_module": "@jupyter-widgets/controls",
            "_model_module_version": "1.5.0",
            "value": 20972,
            "_view_count": null,
            "_view_module_version": "1.5.0",
            "orientation": "horizontal",
            "min": 0,
            "description_tooltip": null,
            "_model_module": "@jupyter-widgets/controls",
            "layout": "IPY_MODEL_8a950cb7b90845d7a60c1a23ee5b2043"
          }
        },
        "5f5e033583c14e3493cd09cc15cf81e2": {
          "model_module": "@jupyter-widgets/controls",
          "model_name": "HTMLModel",
          "state": {
            "_view_name": "HTMLView",
            "style": "IPY_MODEL_13e19b3a96e7495da2e30a1e80ef2a4c",
            "_dom_classes": [],
            "description": "",
            "_model_name": "HTMLModel",
            "placeholder": "​",
            "_view_module": "@jupyter-widgets/controls",
            "_model_module_version": "1.5.0",
            "value": " 20972/20972 [00:30&lt;00:00, 680.39it/s]",
            "_view_count": null,
            "_view_module_version": "1.5.0",
            "description_tooltip": null,
            "_model_module": "@jupyter-widgets/controls",
            "layout": "IPY_MODEL_e3d1366390524c91a9614bf371de5281"
          }
        },
        "75c2ea5e277d470fa94a7d1f1267b275": {
          "model_module": "@jupyter-widgets/controls",
          "model_name": "ProgressStyleModel",
          "state": {
            "_view_name": "StyleView",
            "_model_name": "ProgressStyleModel",
            "description_width": "initial",
            "_view_module": "@jupyter-widgets/base",
            "_model_module_version": "1.5.0",
            "_view_count": null,
            "_view_module_version": "1.2.0",
            "bar_color": null,
            "_model_module": "@jupyter-widgets/controls"
          }
        },
        "8a950cb7b90845d7a60c1a23ee5b2043": {
          "model_module": "@jupyter-widgets/base",
          "model_name": "LayoutModel",
          "state": {
            "_view_name": "LayoutView",
            "grid_template_rows": null,
            "right": null,
            "justify_content": null,
            "_view_module": "@jupyter-widgets/base",
            "overflow": null,
            "_model_module_version": "1.2.0",
            "_view_count": null,
            "flex_flow": null,
            "width": null,
            "min_width": null,
            "border": null,
            "align_items": null,
            "bottom": null,
            "_model_module": "@jupyter-widgets/base",
            "top": null,
            "grid_column": null,
            "overflow_y": null,
            "overflow_x": null,
            "grid_auto_flow": null,
            "grid_area": null,
            "grid_template_columns": null,
            "flex": null,
            "_model_name": "LayoutModel",
            "justify_items": null,
            "grid_row": null,
            "max_height": null,
            "align_content": null,
            "visibility": null,
            "align_self": null,
            "height": null,
            "min_height": null,
            "padding": null,
            "grid_auto_rows": null,
            "grid_gap": null,
            "max_width": null,
            "order": null,
            "_view_module_version": "1.2.0",
            "grid_template_areas": null,
            "object_position": null,
            "object_fit": null,
            "grid_auto_columns": null,
            "margin": null,
            "display": null,
            "left": null
          }
        },
        "13e19b3a96e7495da2e30a1e80ef2a4c": {
          "model_module": "@jupyter-widgets/controls",
          "model_name": "DescriptionStyleModel",
          "state": {
            "_view_name": "StyleView",
            "_model_name": "DescriptionStyleModel",
            "description_width": "",
            "_view_module": "@jupyter-widgets/base",
            "_model_module_version": "1.5.0",
            "_view_count": null,
            "_view_module_version": "1.2.0",
            "_model_module": "@jupyter-widgets/controls"
          }
        },
        "e3d1366390524c91a9614bf371de5281": {
          "model_module": "@jupyter-widgets/base",
          "model_name": "LayoutModel",
          "state": {
            "_view_name": "LayoutView",
            "grid_template_rows": null,
            "right": null,
            "justify_content": null,
            "_view_module": "@jupyter-widgets/base",
            "overflow": null,
            "_model_module_version": "1.2.0",
            "_view_count": null,
            "flex_flow": null,
            "width": null,
            "min_width": null,
            "border": null,
            "align_items": null,
            "bottom": null,
            "_model_module": "@jupyter-widgets/base",
            "top": null,
            "grid_column": null,
            "overflow_y": null,
            "overflow_x": null,
            "grid_auto_flow": null,
            "grid_area": null,
            "grid_template_columns": null,
            "flex": null,
            "_model_name": "LayoutModel",
            "justify_items": null,
            "grid_row": null,
            "max_height": null,
            "align_content": null,
            "visibility": null,
            "align_self": null,
            "height": null,
            "min_height": null,
            "padding": null,
            "grid_auto_rows": null,
            "grid_gap": null,
            "max_width": null,
            "order": null,
            "_view_module_version": "1.2.0",
            "grid_template_areas": null,
            "object_position": null,
            "object_fit": null,
            "grid_auto_columns": null,
            "margin": null,
            "display": null,
            "left": null
          }
        },
        "40df34fd35b54750948127a332919d28": {
          "model_module": "@jupyter-widgets/controls",
          "model_name": "HBoxModel",
          "state": {
            "_view_name": "HBoxView",
            "_dom_classes": [],
            "_model_name": "HBoxModel",
            "_view_module": "@jupyter-widgets/controls",
            "_model_module_version": "1.5.0",
            "_view_count": null,
            "_view_module_version": "1.5.0",
            "box_style": "",
            "layout": "IPY_MODEL_27713f4e0cea48f89638481591c60255",
            "_model_module": "@jupyter-widgets/controls",
            "children": [
              "IPY_MODEL_9cd402a450fd41f7b193f06e2c137db4",
              "IPY_MODEL_a698741e7a14474980f71b6a866b0f23"
            ]
          }
        },
        "27713f4e0cea48f89638481591c60255": {
          "model_module": "@jupyter-widgets/base",
          "model_name": "LayoutModel",
          "state": {
            "_view_name": "LayoutView",
            "grid_template_rows": null,
            "right": null,
            "justify_content": null,
            "_view_module": "@jupyter-widgets/base",
            "overflow": null,
            "_model_module_version": "1.2.0",
            "_view_count": null,
            "flex_flow": null,
            "width": null,
            "min_width": null,
            "border": null,
            "align_items": null,
            "bottom": null,
            "_model_module": "@jupyter-widgets/base",
            "top": null,
            "grid_column": null,
            "overflow_y": null,
            "overflow_x": null,
            "grid_auto_flow": null,
            "grid_area": null,
            "grid_template_columns": null,
            "flex": null,
            "_model_name": "LayoutModel",
            "justify_items": null,
            "grid_row": null,
            "max_height": null,
            "align_content": null,
            "visibility": null,
            "align_self": null,
            "height": null,
            "min_height": null,
            "padding": null,
            "grid_auto_rows": null,
            "grid_gap": null,
            "max_width": null,
            "order": null,
            "_view_module_version": "1.2.0",
            "grid_template_areas": null,
            "object_position": null,
            "object_fit": null,
            "grid_auto_columns": null,
            "margin": null,
            "display": null,
            "left": null
          }
        },
        "9cd402a450fd41f7b193f06e2c137db4": {
          "model_module": "@jupyter-widgets/controls",
          "model_name": "FloatProgressModel",
          "state": {
            "_view_name": "ProgressView",
            "style": "IPY_MODEL_1d9650ccb3774dfeabfe5b37e70aabdf",
            "_dom_classes": [],
            "description": "100%",
            "_model_name": "FloatProgressModel",
            "bar_style": "success",
            "max": 8989,
            "_view_module": "@jupyter-widgets/controls",
            "_model_module_version": "1.5.0",
            "value": 8989,
            "_view_count": null,
            "_view_module_version": "1.5.0",
            "orientation": "horizontal",
            "min": 0,
            "description_tooltip": null,
            "_model_module": "@jupyter-widgets/controls",
            "layout": "IPY_MODEL_a6ac858600b64fc68c92501ea4c1546d"
          }
        },
        "a698741e7a14474980f71b6a866b0f23": {
          "model_module": "@jupyter-widgets/controls",
          "model_name": "HTMLModel",
          "state": {
            "_view_name": "HTMLView",
            "style": "IPY_MODEL_b591f878dacc425887599f7ffdf9ea16",
            "_dom_classes": [],
            "description": "",
            "_model_name": "HTMLModel",
            "placeholder": "​",
            "_view_module": "@jupyter-widgets/controls",
            "_model_module_version": "1.5.0",
            "value": " 8989/8989 [00:12&lt;00:00, 729.75it/s]",
            "_view_count": null,
            "_view_module_version": "1.5.0",
            "description_tooltip": null,
            "_model_module": "@jupyter-widgets/controls",
            "layout": "IPY_MODEL_8127be5e8c034adeab4d19504cbbbe49"
          }
        },
        "1d9650ccb3774dfeabfe5b37e70aabdf": {
          "model_module": "@jupyter-widgets/controls",
          "model_name": "ProgressStyleModel",
          "state": {
            "_view_name": "StyleView",
            "_model_name": "ProgressStyleModel",
            "description_width": "initial",
            "_view_module": "@jupyter-widgets/base",
            "_model_module_version": "1.5.0",
            "_view_count": null,
            "_view_module_version": "1.2.0",
            "bar_color": null,
            "_model_module": "@jupyter-widgets/controls"
          }
        },
        "a6ac858600b64fc68c92501ea4c1546d": {
          "model_module": "@jupyter-widgets/base",
          "model_name": "LayoutModel",
          "state": {
            "_view_name": "LayoutView",
            "grid_template_rows": null,
            "right": null,
            "justify_content": null,
            "_view_module": "@jupyter-widgets/base",
            "overflow": null,
            "_model_module_version": "1.2.0",
            "_view_count": null,
            "flex_flow": null,
            "width": null,
            "min_width": null,
            "border": null,
            "align_items": null,
            "bottom": null,
            "_model_module": "@jupyter-widgets/base",
            "top": null,
            "grid_column": null,
            "overflow_y": null,
            "overflow_x": null,
            "grid_auto_flow": null,
            "grid_area": null,
            "grid_template_columns": null,
            "flex": null,
            "_model_name": "LayoutModel",
            "justify_items": null,
            "grid_row": null,
            "max_height": null,
            "align_content": null,
            "visibility": null,
            "align_self": null,
            "height": null,
            "min_height": null,
            "padding": null,
            "grid_auto_rows": null,
            "grid_gap": null,
            "max_width": null,
            "order": null,
            "_view_module_version": "1.2.0",
            "grid_template_areas": null,
            "object_position": null,
            "object_fit": null,
            "grid_auto_columns": null,
            "margin": null,
            "display": null,
            "left": null
          }
        },
        "b591f878dacc425887599f7ffdf9ea16": {
          "model_module": "@jupyter-widgets/controls",
          "model_name": "DescriptionStyleModel",
          "state": {
            "_view_name": "StyleView",
            "_model_name": "DescriptionStyleModel",
            "description_width": "",
            "_view_module": "@jupyter-widgets/base",
            "_model_module_version": "1.5.0",
            "_view_count": null,
            "_view_module_version": "1.2.0",
            "_model_module": "@jupyter-widgets/controls"
          }
        },
        "8127be5e8c034adeab4d19504cbbbe49": {
          "model_module": "@jupyter-widgets/base",
          "model_name": "LayoutModel",
          "state": {
            "_view_name": "LayoutView",
            "grid_template_rows": null,
            "right": null,
            "justify_content": null,
            "_view_module": "@jupyter-widgets/base",
            "overflow": null,
            "_model_module_version": "1.2.0",
            "_view_count": null,
            "flex_flow": null,
            "width": null,
            "min_width": null,
            "border": null,
            "align_items": null,
            "bottom": null,
            "_model_module": "@jupyter-widgets/base",
            "top": null,
            "grid_column": null,
            "overflow_y": null,
            "overflow_x": null,
            "grid_auto_flow": null,
            "grid_area": null,
            "grid_template_columns": null,
            "flex": null,
            "_model_name": "LayoutModel",
            "justify_items": null,
            "grid_row": null,
            "max_height": null,
            "align_content": null,
            "visibility": null,
            "align_self": null,
            "height": null,
            "min_height": null,
            "padding": null,
            "grid_auto_rows": null,
            "grid_gap": null,
            "max_width": null,
            "order": null,
            "_view_module_version": "1.2.0",
            "grid_template_areas": null,
            "object_position": null,
            "object_fit": null,
            "grid_auto_columns": null,
            "margin": null,
            "display": null,
            "left": null
          }
        }
      }
    }
  },
  "cells": [
    {
      "cell_type": "markdown",
      "metadata": {
        "id": "hC26iWGuDXjP",
        "colab_type": "text"
      },
      "source": [
        "## Get all your imports"
      ]
    },
    {
      "cell_type": "code",
      "metadata": {
        "id": "Bm8GD34Mol_F",
        "colab_type": "code",
        "colab": {}
      },
      "source": [
        "import pickle\n",
        "from tqdm.notebook import tqdm\n",
        "import pandas as pd\n",
        "import numpy as np\n",
        "from lightgbm import LGBMClassifier\n",
        "from sklearn.svm import LinearSVC\n",
        "from sklearn.linear_model import LogisticRegression\n",
        "from sklearn.multiclass import OneVsRestClassifier\n",
        "from sklearn.metrics import f1_score\n",
        "from sklearn.model_selection import KFold, StratifiedKFold\n",
        "from sklearn.feature_extraction.text import CountVectorizer, TfidfVectorizer\n",
        "from scipy import sparse\n",
        "import spacy\n",
        "from spacy.lang.en.stop_words import STOP_WORDS\n",
        "import warnings\n",
        "warnings.filterwarnings(\"ignore\")\n",
        "nlp = spacy.load('en')"
      ],
      "execution_count": 2,
      "outputs": []
    },
    {
      "cell_type": "markdown",
      "metadata": {
        "id": "Yf0cmtZ5ECU2",
        "colab_type": "text"
      },
      "source": [
        "## Define all functions here"
      ]
    },
    {
      "cell_type": "code",
      "metadata": {
        "id": "ZUzZ4QpUEAxs",
        "colab_type": "code",
        "colab": {}
      },
      "source": [
        "# Replace latex math symbols with the special word \"math_equation\"\n",
        "def convert_latex_eqn_to_word(text):\n",
        "  while True:\n",
        "    if \"$\" in text and text.count(\"$\") > 1:\n",
        "      start_index = text.index(\"$\")\n",
        "      end_index = text.index(\"$\", start_index+1)\n",
        "      text = text[:start_index] + \"math_equation\" + text[end_index+1:]\n",
        "    else:\n",
        "      return text\n",
        "\n",
        "def tokenize(text):\n",
        "  return [i.text for i in nlp.tokenizer(text)]\n",
        "\n",
        "def dummy(text):\n",
        "  return text"
      ],
      "execution_count": 3,
      "outputs": []
    },
    {
      "cell_type": "markdown",
      "metadata": {
        "id": "MsYbTCA7Dd-p",
        "colab_type": "text"
      },
      "source": [
        "## Load all the required files and do a bit of pre-processing"
      ]
    },
    {
      "cell_type": "code",
      "metadata": {
        "id": "lY0__BF_ol_O",
        "colab_type": "code",
        "colab": {
          "base_uri": "https://localhost:8080/",
          "height": 421,
          "referenced_widgets": [
            "b9569b7ad55a46eea0a41efe1d99a807",
            "be2c38d329574b3390f3bcd97c844b07",
            "68e55040de564215b91381a1c0921e7f",
            "5f5e033583c14e3493cd09cc15cf81e2",
            "75c2ea5e277d470fa94a7d1f1267b275",
            "8a950cb7b90845d7a60c1a23ee5b2043",
            "13e19b3a96e7495da2e30a1e80ef2a4c",
            "e3d1366390524c91a9614bf371de5281",
            "40df34fd35b54750948127a332919d28",
            "27713f4e0cea48f89638481591c60255",
            "9cd402a450fd41f7b193f06e2c137db4",
            "a698741e7a14474980f71b6a866b0f23",
            "1d9650ccb3774dfeabfe5b37e70aabdf",
            "a6ac858600b64fc68c92501ea4c1546d",
            "b591f878dacc425887599f7ffdf9ea16",
            "8127be5e8c034adeab4d19504cbbbe49"
          ]
        },
        "outputId": "5ecbba1d-d4fc-4bbd-ab02-f8a3b83fbfa7"
      },
      "source": [
        "df_train = pd.read_csv(\"/content/drive/My Drive/JanataHack_IndependenceDay/train.csv\")\n",
        "df_test = pd.read_csv(\"/content/drive/My Drive/JanataHack_IndependenceDay/test.csv\")\n",
        "\n",
        "# Concatenate title and abstract\n",
        "df_train[\"Concat\"] = df_train[\"TITLE\"].str.cat(df_train[\"ABSTRACT\"].str.strip(), sep=\" \")\n",
        "df_test[\"Concat\"] = df_test[\"TITLE\"].str.cat(df_test[\"ABSTRACT\"].str.strip(), sep=\" \")\n",
        "\n",
        "# Remove unnecessary shit\n",
        "df_train[\"Concat\"] = df_train[\"Concat\"].str.strip()\n",
        "df_test[\"Concat\"] = df_test[\"Concat\"].str.strip()\n",
        "\n",
        "# Lowercase\n",
        "df_train[\"Concat\"] = df_train[\"Concat\"].str.lower()\n",
        "df_test[\"Concat\"] = df_test[\"Concat\"].str.lower()\n",
        "\n",
        "# Seems like the data was scraped from a pdf or something cause there are random \\n characters in a sentence. Remove them\n",
        "df_train[\"Concat\"] = df_train[\"Concat\"].str.replace(\"\\\\n\", \" \")\n",
        "df_test[\"Concat\"] = df_test[\"Concat\"].str.replace(\"\\\\n\", \" \")\n",
        "\n",
        "# Looks like latex was used to write these articles as there are latex equations. Replace them with some special token\n",
        "df_train[\"Concat\"] = [convert_latex_eqn_to_word(text) for text in df_train[\"Concat\"]]\n",
        "df_test[\"Concat\"] = [convert_latex_eqn_to_word(text) for text in df_test[\"Concat\"]]\n",
        "\n",
        "# Perform tokenization using spacy\n",
        "df_train[\"Concat\"] = [tokenize(i) for i in tqdm(df_train[\"Concat\"].values)]\n",
        "df_test[\"Concat\"] = [tokenize(i) for i in tqdm(df_test[\"Concat\"].values)]\n",
        "\n",
        "# Convert pandas column to numpy array\n",
        "X_train = df_train[\"Concat\"].values\n",
        "X_test = df_test[\"Concat\"].values\n",
        "\n",
        "# Get the class labels\n",
        "classes = [\"Computer Science\", \"Physics\", \"Mathematics\", \"Statistics\", \"Quantitative Biology\", \"Quantitative Finance\"]\n",
        "Y = df_train[classes].values\n",
        "\n",
        "print(\"Classes train shape: \", Y.shape)\n",
        "df_train.head()"
      ],
      "execution_count": 4,
      "outputs": [
        {
          "output_type": "display_data",
          "data": {
            "application/vnd.jupyter.widget-view+json": {
              "model_id": "b9569b7ad55a46eea0a41efe1d99a807",
              "version_minor": 0,
              "version_major": 2
            },
            "text/plain": [
              "HBox(children=(FloatProgress(value=0.0, max=20972.0), HTML(value='')))"
            ]
          },
          "metadata": {
            "tags": []
          }
        },
        {
          "output_type": "stream",
          "text": [
            "\n"
          ],
          "name": "stdout"
        },
        {
          "output_type": "display_data",
          "data": {
            "application/vnd.jupyter.widget-view+json": {
              "model_id": "40df34fd35b54750948127a332919d28",
              "version_minor": 0,
              "version_major": 2
            },
            "text/plain": [
              "HBox(children=(FloatProgress(value=0.0, max=8989.0), HTML(value='')))"
            ]
          },
          "metadata": {
            "tags": []
          }
        },
        {
          "output_type": "stream",
          "text": [
            "\n",
            "Classes train shape:  (20972, 6)\n"
          ],
          "name": "stdout"
        },
        {
          "output_type": "execute_result",
          "data": {
            "text/html": [
              "<div>\n",
              "<style scoped>\n",
              "    .dataframe tbody tr th:only-of-type {\n",
              "        vertical-align: middle;\n",
              "    }\n",
              "\n",
              "    .dataframe tbody tr th {\n",
              "        vertical-align: top;\n",
              "    }\n",
              "\n",
              "    .dataframe thead th {\n",
              "        text-align: right;\n",
              "    }\n",
              "</style>\n",
              "<table border=\"1\" class=\"dataframe\">\n",
              "  <thead>\n",
              "    <tr style=\"text-align: right;\">\n",
              "      <th></th>\n",
              "      <th>ID</th>\n",
              "      <th>TITLE</th>\n",
              "      <th>ABSTRACT</th>\n",
              "      <th>Computer Science</th>\n",
              "      <th>Physics</th>\n",
              "      <th>Mathematics</th>\n",
              "      <th>Statistics</th>\n",
              "      <th>Quantitative Biology</th>\n",
              "      <th>Quantitative Finance</th>\n",
              "      <th>Concat</th>\n",
              "    </tr>\n",
              "  </thead>\n",
              "  <tbody>\n",
              "    <tr>\n",
              "      <th>0</th>\n",
              "      <td>1</td>\n",
              "      <td>Reconstructing Subject-Specific Effect Maps</td>\n",
              "      <td>Predictive models allow subject-specific inf...</td>\n",
              "      <td>1</td>\n",
              "      <td>0</td>\n",
              "      <td>0</td>\n",
              "      <td>0</td>\n",
              "      <td>0</td>\n",
              "      <td>0</td>\n",
              "      <td>[reconstructing, subject, -, specific, effect,...</td>\n",
              "    </tr>\n",
              "    <tr>\n",
              "      <th>1</th>\n",
              "      <td>2</td>\n",
              "      <td>Rotation Invariance Neural Network</td>\n",
              "      <td>Rotation invariance and translation invarian...</td>\n",
              "      <td>1</td>\n",
              "      <td>0</td>\n",
              "      <td>0</td>\n",
              "      <td>0</td>\n",
              "      <td>0</td>\n",
              "      <td>0</td>\n",
              "      <td>[rotation, invariance, neural, network, rotati...</td>\n",
              "    </tr>\n",
              "    <tr>\n",
              "      <th>2</th>\n",
              "      <td>3</td>\n",
              "      <td>Spherical polyharmonics and Poisson kernels fo...</td>\n",
              "      <td>We introduce and develop the notion of spher...</td>\n",
              "      <td>0</td>\n",
              "      <td>0</td>\n",
              "      <td>1</td>\n",
              "      <td>0</td>\n",
              "      <td>0</td>\n",
              "      <td>0</td>\n",
              "      <td>[spherical, polyharmonics, and, poisson, kerne...</td>\n",
              "    </tr>\n",
              "    <tr>\n",
              "      <th>3</th>\n",
              "      <td>4</td>\n",
              "      <td>A finite element approximation for the stochas...</td>\n",
              "      <td>The stochastic Landau--Lifshitz--Gilbert (LL...</td>\n",
              "      <td>0</td>\n",
              "      <td>0</td>\n",
              "      <td>1</td>\n",
              "      <td>0</td>\n",
              "      <td>0</td>\n",
              "      <td>0</td>\n",
              "      <td>[a, finite, element, approximation, for, the, ...</td>\n",
              "    </tr>\n",
              "    <tr>\n",
              "      <th>4</th>\n",
              "      <td>5</td>\n",
              "      <td>Comparative study of Discrete Wavelet Transfor...</td>\n",
              "      <td>Fourier-transform infra-red (FTIR) spectra o...</td>\n",
              "      <td>1</td>\n",
              "      <td>0</td>\n",
              "      <td>0</td>\n",
              "      <td>1</td>\n",
              "      <td>0</td>\n",
              "      <td>0</td>\n",
              "      <td>[comparative, study, of, discrete, wavelet, tr...</td>\n",
              "    </tr>\n",
              "  </tbody>\n",
              "</table>\n",
              "</div>"
            ],
            "text/plain": [
              "   ID  ...                                             Concat\n",
              "0   1  ...  [reconstructing, subject, -, specific, effect,...\n",
              "1   2  ...  [rotation, invariance, neural, network, rotati...\n",
              "2   3  ...  [spherical, polyharmonics, and, poisson, kerne...\n",
              "3   4  ...  [a, finite, element, approximation, for, the, ...\n",
              "4   5  ...  [comparative, study, of, discrete, wavelet, tr...\n",
              "\n",
              "[5 rows x 10 columns]"
            ]
          },
          "metadata": {
            "tags": []
          },
          "execution_count": 4
        }
      ]
    },
    {
      "cell_type": "markdown",
      "metadata": {
        "id": "wjQsAegzU0w2",
        "colab_type": "text"
      },
      "source": [
        "## Now we generate probabilities for each class using CountVectorizer"
      ]
    },
    {
      "cell_type": "code",
      "metadata": {
        "id": "zGUzjUk2ol_X",
        "colab_type": "code",
        "colab": {}
      },
      "source": [
        "kfold = KFold(n_splits=10, shuffle=True, random_state=27)\n",
        "scores = list()\n",
        "\n",
        "# Stacking the probabilities obtained via countvectorizer\n",
        "X_train_count_vec = np.zeros(Y.shape, dtype=np.float32)\n",
        "for train, test in kfold.split(X_train):\n",
        "  x_train, x_test = X_train[train], X_train[test]\n",
        "  y_train, y_test = Y[train], Y[test]\n",
        "\n",
        "  # Generate vectors\n",
        "  vectorizer = CountVectorizer(ngram_range=(1,2), min_df=7, stop_words=list(STOP_WORDS), preprocessor=dummy, tokenizer=dummy, lowercase=False)\n",
        "  x_train = vectorizer.fit_transform(x_train)\n",
        "  x_test = vectorizer.transform(x_test)\n",
        "\n",
        "  print(x_train.shape)\n",
        "  \n",
        "  model = OneVsRestClassifier(LGBMClassifier(random_state=27, max_depth=-1, n_estimators=100))\n",
        "  model.fit(x_train, y_train)\n",
        "  preds_proba = model.predict_proba(x_test)\n",
        "  preds = model.predict(x_test)\n",
        "  X_train_count_vec[test] = preds_proba\n",
        "  \n",
        "  score = f1_score(y_test, preds, average=\"micro\")\n",
        "  print(\"Score: \", score)\n",
        "  scores.append(score)\n",
        "print(\"\\nAverage Score: \", sum(scores)/len(scores))\n",
        "\n",
        "# Get the test probabilities as well\n",
        "vectorizer = CountVectorizer(ngram_range=(1,2), min_df=7, stop_words=list(STOP_WORDS), preprocessor=dummy, tokenizer=dummy, lowercase=False)\n",
        "model = OneVsRestClassifier(LGBMClassifier(random_state=27, max_depth=-1, n_estimators=100))\n",
        "model.fit(vectorizer.fit_transform(X_train), Y)\n",
        "X_test_count_vec = model.predict_proba(vectorizer.transform(X_test))"
      ],
      "execution_count": 5,
      "outputs": []
    },
    {
      "cell_type": "markdown",
      "metadata": {
        "id": "Y_aO9zfEU-bC",
        "colab_type": "text"
      },
      "source": [
        "## This time, use TFIDFVectorizer while adding the probabilities generate earlier"
      ]
    },
    {
      "cell_type": "code",
      "metadata": {
        "id": "_cbjxdI4ol_m",
        "colab_type": "code",
        "colab": {}
      },
      "source": [
        "kfold = KFold(n_splits=10, shuffle=True, random_state=27)\n",
        "scores = list()\n",
        "\n",
        "# Stacking the probabilities obtained via countvectorizer\n",
        "X_train_tfidf_vec = np.zeros(Y.shape, dtype=np.float32)\n",
        "for train, test in kfold.split(X_train):\n",
        "  x_train, x_test = X_train[train], X_train[test]\n",
        "  y_train, y_test = Y[train], Y[test]\n",
        "\n",
        "  vectorizer = TfidfVectorizer(ngram_range=(1,2), min_df=7, stop_words=list(STOP_WORDS), preprocessor=dummy, tokenizer=dummy)\n",
        "  x_train = sparse.csr_matrix(np.concatenate((vectorizer.fit_transform(x_train).toarray(), X_train_count_vec[train]), axis=1))\n",
        "  x_test = sparse.csr_matrix(np.concatenate((vectorizer.transform(x_test).toarray(), X_train_count_vec[test]), axis=1))\n",
        "\n",
        "  print(x_train.shape)\n",
        "  \n",
        "  model = OneVsRestClassifier(LGBMClassifier(random_state=27, max_depth=-1, n_estimators=100))\n",
        "  model.fit(x_train, y_train)\n",
        "  preds_proba = model.predict_proba(x_test)\n",
        "  preds = model.predict(x_test)\n",
        "  X_train_tfidf_vec[test] = preds_proba\n",
        "  \n",
        "  score = f1_score(y_test, preds, average=\"micro\")\n",
        "  print(\"Score: \", score)\n",
        "  scores.append(score)\n",
        "print(\"\\nAverage Score: \", sum(scores)/len(scores))\n",
        "\n",
        "# Get the test probabilities as well\n",
        "vectorizer = TfidfVectorizer(ngram_range=(1,2), min_df=7, stop_words=list(STOP_WORDS), preprocessor=dummy, tokenizer=dummy)\n",
        "model = OneVsRestClassifier(LGBMClassifier(random_state=27, max_depth=-1, n_estimators=100))\n",
        "model.fit(sparse.csr_matrix(np.concatenate((vectorizer.fit_transform(X_train).toarray(), X_train_count_vec), axis=1)), Y)\n",
        "X_test_tfidf_vec = model.predict_proba(sparse.csr_matrix(np.concatenate((vectorizer.transform(X_test).toarray(), X_test_count_vec), axis=1)))"
      ],
      "execution_count": null,
      "outputs": []
    },
    {
      "cell_type": "markdown",
      "metadata": {
        "id": "QUqShqoOaZzM",
        "colab_type": "text"
      },
      "source": [
        "## Finally, write out the predictions. We'll use these later as input to pre-trained models"
      ]
    },
    {
      "cell_type": "code",
      "metadata": {
        "id": "CtpTtC_Yol_u",
        "colab_type": "code",
        "colab": {}
      },
      "source": [
        "# Write out the train predictions\n",
        "fp = open(\"best_tfidf_train.csv\", \"w\")\n",
        "fp.write(\"ID,Computer Science,Physics,Mathematics,Statistics,Quantitative Biology,Quantitative Finance\\n\")\n",
        "for id_, pred in zip(df_test[\"ID\"].values, X_train_tfidf_vec):\n",
        "    fp.write(str(id_)+\",\"+\",\".join([str(i) for i in pred])+\"\\n\")\n",
        "fp.close()\n",
        "\n",
        "# Write out the test predictions\n",
        "fp = open(\"best_tfidf_test.csv\", \"w\")\n",
        "fp.write(\"ID,Computer Science,Physics,Mathematics,Statistics,Quantitative Biology,Quantitative Finance\\n\")\n",
        "for id_, pred in zip(df_test[\"ID\"].values, X_test_tfidf_vec):\n",
        "    fp.write(str(id_)+\",\"+\",\".join([str(i) for i in pred])+\"\\n\")\n",
        "fp.close()"
      ],
      "execution_count": null,
      "outputs": []
    },
    {
      "cell_type": "code",
      "metadata": {
        "id": "cKspaq9Hol_4",
        "colab_type": "code",
        "colab": {}
      },
      "source": [
        ""
      ],
      "execution_count": null,
      "outputs": []
    }
  ]
}